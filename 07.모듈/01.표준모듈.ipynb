{
 "cells": [
  {
   "cell_type": "markdown",
   "metadata": {},
   "source": [
    "### 7. 모듈\n",
    "\n",
    "#### 7.1 표준 모듈\n",
    "\n",
    "- math 모듈"
   ]
  },
  {
   "cell_type": "code",
   "execution_count": 1,
   "metadata": {},
   "outputs": [
    {
     "data": {
      "text/plain": [
       "3.141592653589793"
      ]
     },
     "execution_count": 1,
     "metadata": {},
     "output_type": "execute_result"
    }
   ],
   "source": [
    "import math\n",
    "math.pi"
   ]
  },
  {
   "cell_type": "code",
   "execution_count": 2,
   "metadata": {},
   "outputs": [
    {
     "data": {
      "text/plain": [
       "(1.0, 6.123233995736766e-17)"
      ]
     },
     "execution_count": 2,
     "metadata": {},
     "output_type": "execute_result"
    }
   ],
   "source": [
    "# 90도 일때(pi/2)의 sin, cos\n",
    "math.sin(math.pi/2), math.cos(math.pi/2)"
   ]
  },
  {
   "cell_type": "code",
   "execution_count": 3,
   "metadata": {},
   "outputs": [
    {
     "data": {
      "text/plain": [
       "(1.0, 6.123233995736766e-17)"
      ]
     },
     "execution_count": 3,
     "metadata": {},
     "output_type": "execute_result"
    }
   ],
   "source": [
    "from math import pi, sin, cos\n",
    "sin(pi/2), cos(pi/2)"
   ]
  },
  {
   "cell_type": "code",
   "execution_count": 4,
   "metadata": {},
   "outputs": [
    {
     "data": {
      "text/plain": [
       "(1.0, 6.123233995736766e-17)"
      ]
     },
     "execution_count": 4,
     "metadata": {},
     "output_type": "execute_result"
    }
   ],
   "source": [
    "import math as m\n",
    "m.sin(m.pi/2), m.cos(m.pi/2)"
   ]
  },
  {
   "cell_type": "markdown",
   "metadata": {},
   "source": [
    "- random 모듈"
   ]
  },
  {
   "cell_type": "code",
   "execution_count": 5,
   "metadata": {},
   "outputs": [
    {
     "data": {
      "text/plain": [
       "(0.2879714567526357, 4)"
      ]
     },
     "execution_count": 5,
     "metadata": {},
     "output_type": "execute_result"
    }
   ],
   "source": [
    "import random as rd\n",
    "rd.random(), rd.randint(1, 6)"
   ]
  },
  {
   "cell_type": "code",
   "execution_count": 6,
   "metadata": {},
   "outputs": [
    {
     "data": {
      "text/plain": [
       "5.985542211658136"
      ]
     },
     "execution_count": 6,
     "metadata": {},
     "output_type": "execute_result"
    }
   ],
   "source": [
    "# (start, end)까지 실수 반환\n",
    "rd.uniform(1, 10)"
   ]
  },
  {
   "cell_type": "code",
   "execution_count": 7,
   "metadata": {},
   "outputs": [
    {
     "data": {
      "text/plain": [
       "(6, 6)"
      ]
     },
     "execution_count": 7,
     "metadata": {},
     "output_type": "execute_result"
    }
   ],
   "source": [
    "# range() 범위에서 하나의 수 반환\n",
    "rd.randrange(10), rd.randrange(1, 7)"
   ]
  },
  {
   "cell_type": "code",
   "execution_count": 8,
   "metadata": {},
   "outputs": [
    {
     "data": {
      "text/plain": [
       "(4, [5, 1])"
      ]
     },
     "execution_count": 8,
     "metadata": {},
     "output_type": "execute_result"
    }
   ],
   "source": [
    "a = [1, 2, 3, 4, 5]\n",
    "rd.choice(a), rd.sample(a, 2)"
   ]
  },
  {
   "cell_type": "code",
   "execution_count": 9,
   "metadata": {},
   "outputs": [
    {
     "data": {
      "text/plain": [
       "[2, 4, 1, 5, 3]"
      ]
     },
     "execution_count": 9,
     "metadata": {},
     "output_type": "execute_result"
    }
   ],
   "source": [
    "rd.shuffle(a)\n",
    "a"
   ]
  },
  {
   "cell_type": "markdown",
   "metadata": {},
   "source": [
    "- OS 모듈 👑"
   ]
  },
  {
   "cell_type": "code",
   "execution_count": 11,
   "metadata": {},
   "outputs": [
    {
     "data": {
      "text/plain": [
       "'nt'"
      ]
     },
     "execution_count": 11,
     "metadata": {},
     "output_type": "execute_result"
    }
   ],
   "source": [
    "import os\n",
    "os.name"
   ]
  },
  {
   "cell_type": "code",
   "execution_count": 13,
   "metadata": {},
   "outputs": [
    {
     "data": {
      "text/plain": [
       "'c:\\\\haeeema\\\\WorkSpace\\\\01.Python\\\\07.모듈'"
      ]
     },
     "execution_count": 13,
     "metadata": {},
     "output_type": "execute_result"
    }
   ],
   "source": [
    "# 현재 작업 디렉토리(Current Working Directory)\n",
    "os.getcwd()"
   ]
  },
  {
   "cell_type": "code",
   "execution_count": 14,
   "metadata": {},
   "outputs": [
    {
     "data": {
      "text/plain": [
       "['01.표준모듈.ipynb', 'test_package']"
      ]
     },
     "execution_count": 14,
     "metadata": {},
     "output_type": "execute_result"
    }
   ],
   "source": [
    "# 현재 작업 디렉토리에 있는 파일과 디렉토리 요소 보기\n",
    "os.listdir()"
   ]
  },
  {
   "cell_type": "code",
   "execution_count": 16,
   "metadata": {},
   "outputs": [
    {
     "data": {
      "text/plain": [
       "['01.표준모듈.ipynb', 'test', 'test_package']"
      ]
     },
     "execution_count": 16,
     "metadata": {},
     "output_type": "execute_result"
    }
   ],
   "source": [
    "# 현재 작업 디렉토리에 'test' 디렉토리 생성\n",
    "dir_name = 'test'\n",
    "if not os.path.exists(dir_name):\n",
    "    os.mkdir(dir_name)\n",
    "os.listdir()"
   ]
  },
  {
   "cell_type": "code",
   "execution_count": 17,
   "metadata": {},
   "outputs": [
    {
     "data": {
      "text/plain": [
       "['01.표준모듈.ipynb', 'test_package']"
      ]
     },
     "execution_count": 17,
     "metadata": {},
     "output_type": "execute_result"
    }
   ],
   "source": [
    "# 현재 작업 디렉토리에 있는 'test' 디렉토리 삭제\n",
    "if os.path.exists(dir_name):\n",
    "    os.rmdir(dir_name)\n",
    "os.listdir()"
   ]
  },
  {
   "cell_type": "code",
   "execution_count": 20,
   "metadata": {},
   "outputs": [
    {
     "name": "stdout",
     "output_type": "stream",
     "text": [
      "c:\\Users\\h\\anaconda3\n",
      "C:\\Users\\h\\anaconda3\n",
      "C:\\Users\\h\\anaconda3\\Library\\mingw-w64\\bin\n",
      "C:\\Users\\h\\anaconda3\\Library\\usr\\bin\n",
      "C:\\Users\\h\\anaconda3\\Library\\bin\n",
      "C:\\Users\\h\\anaconda3\\Scripts\n",
      "C:\\Users\\h\\anaconda3\\bin\n",
      "C:\\Users\\h\\anaconda3\\condabin\n",
      "C:\\oraclexe\\app\\oracle\\product\\11.2.0\\server\\bin\n",
      "C:\\Program Files (x86)\\Common Files\\Oracle\\Java\\javapath\n",
      "C:\\WINDOWS\\system32\n",
      "C:\\WINDOWS\n",
      "C:\\WINDOWS\\System32\\Wbem\n",
      "C:\\WINDOWS\\System32\\WindowsPowerShell\\v1.0\n",
      "C:\\WINDOWS\\System32\\OpenSSH\n",
      "C:\\Program Files\\Bandizip\n",
      "C:\\Program Files\\Java\\jdk1.8.0_202\\bin\n",
      "C:\\Program Files\\Git\\cmd\n",
      "C:\\Program Files\\Java\\jdk1.8.0_202Wbin\n",
      "C:\\Users\\h\\anaconda3\n",
      "C:\\Users\\h\\anaconda3\\Library\\mingw-w64\\bin\n",
      "C:\\Users\\h\\anaconda3\\Library\\usr\\bin\n",
      "C:\\Users\\h\\anaconda3\\Library\\bin\n",
      "C:\\Users\\h\\anaconda3\\Scripts\n",
      "C:\\Users\\h\\AppData\\Local\\Microsoft\\WindowsApps\n",
      "C:\\Users\\h\\AppData\\Local\\Programs\\Microsoft VS Code\\bin\n"
     ]
    }
   ],
   "source": [
    "# 경로상에 있는 PATH 확인\n",
    "paths = os.environ['PATH']\n",
    "for path in paths.split(';'):\n",
    "    print(path)"
   ]
  },
  {
   "cell_type": "code",
   "execution_count": 21,
   "metadata": {},
   "outputs": [],
   "source": [
    "import os, time\n",
    "from tkinter import filedialog\n",
    "def b(c):\n",
    "    (mode, ino, dev, nlink, uid, gid, size, atime, mtime, ctime) = os.stat(c)\n",
    "    print(\"파일 타입: \", mode)\n",
    "    print(\"파일 inode: \", ino)\n",
    "    print(\"파일 장치 ID: \", dev)\n",
    "    print(\"파일 링크 수: \", nlink)\n",
    "    print(\"파일 소유자: \", uid)\n",
    "    print(\"파일 그룹: \", gid)\n",
    "    print(\"파일 크기: \", size, \"bytes\")\n",
    "    print(\"마지막으로 수정된 시간: \", time.ctime(mtime))\n",
    "    print(\"파일 접근 시간: \", time.ctime(atime))\n",
    "    print(\"파일 생성 시간: \", time.ctime(ctime))"
   ]
  }
 ],
 "metadata": {
  "kernelspec": {
   "display_name": "base",
   "language": "python",
   "name": "python3"
  },
  "language_info": {
   "codemirror_mode": {
    "name": "ipython",
    "version": 3
   },
   "file_extension": ".py",
   "mimetype": "text/x-python",
   "name": "python",
   "nbconvert_exporter": "python",
   "pygments_lexer": "ipython3",
   "version": "3.11.4"
  },
  "orig_nbformat": 4
 },
 "nbformat": 4,
 "nbformat_minor": 2
}

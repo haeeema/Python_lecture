{
 "cells": [
  {
   "cell_type": "markdown",
   "metadata": {},
   "source": [
    "### 6.2 고급 예외"
   ]
  },
  {
   "cell_type": "code",
   "execution_count": 1,
   "metadata": {},
   "outputs": [
    {
     "name": "stdout",
     "output_type": "stream",
     "text": [
      "<class 'IndexError'> list index out of range\n"
     ]
    }
   ],
   "source": [
    "a = [3, 4, 5]\n",
    "try:\n",
    "    print(a[3])\n",
    "except Exception as e:\n",
    "    print(type(e), e)   # 예외 종류, 예외 메세지 출력"
   ]
  },
  {
   "cell_type": "markdown",
   "metadata": {},
   "source": [
    "- 예외 발생(raise)을 의도적으로"
   ]
  },
  {
   "cell_type": "code",
   "execution_count": 5,
   "metadata": {},
   "outputs": [
    {
     "name": "stdout",
     "output_type": "stream",
     "text": [
      "200, 375, 425\n"
     ]
    }
   ],
   "source": [
    "# a + b + c = 1000을 만족시키는 피타고라스 수를 찾으세요\n",
    "# 단, a < b < c\n",
    "for a in range(1, 333):\n",
    "    for b in range(a+1, 500):\n",
    "        c = 1000 - a - b\n",
    "        if a*a + b*b == c*c:\n",
    "            print(a, b, c, sep=', ')\n",
    "            break"
   ]
  },
  {
   "cell_type": "code",
   "execution_count": 7,
   "metadata": {},
   "outputs": [
    {
     "name": "stdout",
     "output_type": "stream",
     "text": [
      "200, 375, 425\n"
     ]
    }
   ],
   "source": [
    "import time\n",
    "for a in range(1, 333):\n",
    "    time.sleep(0.02)       # 20ms 동안 pause\n",
    "    for b in range(a+1, 500):\n",
    "        c = 1000 - a - b\n",
    "        if a*a + b*b == c*c:\n",
    "            print(a, b, c, sep=', ')\n",
    "            break"
   ]
  },
  {
   "cell_type": "code",
   "execution_count": 9,
   "metadata": {},
   "outputs": [
    {
     "name": "stdout",
     "output_type": "stream",
     "text": [
      "200, 375, 425\n"
     ]
    }
   ],
   "source": [
    "find_flag = False\n",
    "for a in range(1, 333):\n",
    "    time.sleep(0.02)\n",
    "    for b in range(a+1, 500):\n",
    "        c = 1000 - a - b\n",
    "        if a*a + b*b == c*c:\n",
    "            print(a, b, c, sep=', ')\n",
    "            find_flag = True\n",
    "            break\n",
    "    if find_flag:       # a, b, c 값을 찾았으면, loop 완전 탈출\n",
    "        break"
   ]
  },
  {
   "cell_type": "code",
   "execution_count": 10,
   "metadata": {},
   "outputs": [
    {
     "name": "stdout",
     "output_type": "stream",
     "text": [
      "200, 375, 425\n",
      "결과를 찾았습니다.\n"
     ]
    }
   ],
   "source": [
    "try:\n",
    "    for a in range(1, 333):\n",
    "        time.sleep(0.02)\n",
    "        for b in range(a+1, 500):\n",
    "            c = 1000 - a - b\n",
    "            if a*a + b*b == c*c:\n",
    "                print(a, b, c, sep=', ')\n",
    "                raise Exception('결과를 찾았습니다.')\n",
    "except Exception as e:\n",
    "    print(e)\n"
   ]
  },
  {
   "cell_type": "code",
   "execution_count": 8,
   "metadata": {},
   "outputs": [
    {
     "name": "stdout",
     "output_type": "stream",
     "text": [
      "1667295, 1668450, 1666911, 1665438, 1667396, 1664510\n"
     ]
    }
   ],
   "source": [
    "import random\n",
    "one = 0\n",
    "two = 0\n",
    "three = 0\n",
    "four = 0\n",
    "five = 0\n",
    "six = 0\n",
    "dice_result = []\n",
    "for _ in range(10000000):\n",
    "    number = random.randint(1, 6)\n",
    "    if number == 1:\n",
    "        one += 1\n",
    "    elif number == 2:\n",
    "        two += 1\n",
    "    elif number == 3:\n",
    "        three += 1\n",
    "    elif number == 4:\n",
    "        four += 1\n",
    "    elif number == 5:\n",
    "        five += 1\n",
    "    else:\n",
    "        six += 1\n",
    "    dice_result.append(number)\n",
    "print(one, two, three, four, five, six, sep=', ')\n"
   ]
  },
  {
   "cell_type": "code",
   "execution_count": null,
   "metadata": {},
   "outputs": [],
   "source": []
  }
 ],
 "metadata": {
  "kernelspec": {
   "display_name": "base",
   "language": "python",
   "name": "python3"
  },
  "language_info": {
   "codemirror_mode": {
    "name": "ipython",
    "version": 3
   },
   "file_extension": ".py",
   "mimetype": "text/x-python",
   "name": "python",
   "nbconvert_exporter": "python",
   "pygments_lexer": "ipython3",
   "version": "3.11.4"
  },
  "orig_nbformat": 4
 },
 "nbformat": 4,
 "nbformat_minor": 2
}

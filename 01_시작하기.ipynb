{
  "nbformat": 4,
  "nbformat_minor": 0,
  "metadata": {
    "colab": {
      "provenance": [],
      "toc_visible": true
    },
    "kernelspec": {
      "name": "python3",
      "display_name": "Python 3"
    },
    "language_info": {
      "name": "python"
    }
  },
  "cells": [
    {
      "cell_type": "markdown",
      "source": [
        "# 파이썬 시작하기"
      ],
      "metadata": {
        "id": "QiIvYh0IjQw-"
      }
    },
    {
      "cell_type": "markdown",
      "source": [
        "### 1. 세미 콜론(;)"
      ],
      "metadata": {
        "id": "7FPsEvdujzpl"
      }
    },
    {
      "cell_type": "code",
      "source": [
        "# 문장 끝에 세미콜론(;)을 붙이지 않는다.\n",
        "print('Hello')"
      ],
      "metadata": {
        "colab": {
          "base_uri": "https://localhost:8080/"
        },
        "id": "2_gCwyUnj3v_",
        "outputId": "f664f0f3-d2d4-4bae-92ae-b8906f3bd4a9"
      },
      "execution_count": 1,
      "outputs": [
        {
          "output_type": "stream",
          "name": "stdout",
          "text": [
            "Hello\n"
          ]
        }
      ]
    },
    {
      "cell_type": "code",
      "source": [
        "# 한 줄에 여러 문장을 사용할 경우에는 세미콜론을 사용함\n",
        "print('Hello'); print('World')"
      ],
      "metadata": {
        "colab": {
          "base_uri": "https://localhost:8080/"
        },
        "id": "ov2G4hdPkFvW",
        "outputId": "ebdf9db5-157c-432a-c9c7-cf9d44066f2f"
      },
      "execution_count": 5,
      "outputs": [
        {
          "output_type": "stream",
          "name": "stdout",
          "text": [
            "Hello\n",
            "World\n"
          ]
        }
      ]
    },
    {
      "cell_type": "markdown",
      "source": [
        "### 2. 주석(Comment)"
      ],
      "metadata": {
        "id": "cqyjl-GTk0Sv"
      }
    },
    {
      "cell_type": "code",
      "source": [
        "# 한 줄짜리 주석\n",
        "print('Hello') # 문장 뒤에 사용하는 주석"
      ],
      "metadata": {
        "colab": {
          "base_uri": "https://localhost:8080/"
        },
        "id": "G2dK7qDCk5Qt",
        "outputId": "8a041956-b946-4723-b21d-52c19078ecb3"
      },
      "execution_count": 6,
      "outputs": [
        {
          "output_type": "stream",
          "name": "stdout",
          "text": [
            "Hello\n"
          ]
        }
      ]
    },
    {
      "cell_type": "code",
      "source": [
        "# 여러 줄의 주석\n",
        "# 여러 줄의 주석\n",
        "'''\n",
        "원래는 멀티 라인 문자열로 사용됨\n",
        "주석으로도 사용됨\n",
        "'''"
      ],
      "metadata": {
        "colab": {
          "base_uri": "https://localhost:8080/",
          "height": 35
        },
        "id": "DGchAFtSlNDW",
        "outputId": "33ec4448-d760-4c66-8590-0304d52388c5"
      },
      "execution_count": 9,
      "outputs": [
        {
          "output_type": "execute_result",
          "data": {
            "text/plain": [
              "'\\n원래는 멀티 라인 문자열로 사용됨\\n주석으로도 사용됨\\n'"
            ],
            "application/vnd.google.colaboratory.intrinsic+json": {
              "type": "string"
            }
          },
          "metadata": {},
          "execution_count": 9
        }
      ]
    },
    {
      "cell_type": "code",
      "source": [
        "# \"\"\" \"\"\"도 ''' '''과 동일하게 사용됨"
      ],
      "metadata": {
        "id": "j4gz8LqvlnP8"
      },
      "execution_count": 8,
      "outputs": []
    },
    {
      "cell_type": "markdown",
      "source": [
        "### 3. 들여쓰기(Indentation)"
      ],
      "metadata": {
        "id": "tAPu7KXTmQuf"
      }
    },
    {
      "cell_type": "code",
      "source": [
        "num = 3\n",
        "if num %  2 == 1:\n",
        "    print('홀수')"
      ],
      "metadata": {
        "colab": {
          "base_uri": "https://localhost:8080/"
        },
        "id": "WKm6s4R-mZTf",
        "outputId": "186c98e1-9b23-4e12-c3a8-324ae0d11257"
      },
      "execution_count": 10,
      "outputs": [
        {
          "output_type": "stream",
          "name": "stdout",
          "text": [
            "홀수\n"
          ]
        }
      ]
    },
    {
      "cell_type": "code",
      "source": [
        "sum = 0\n",
        "for i in range(1, 11):\n",
        "    sum += i\n",
        "    print('for loop이 돌 때마다 찍힘:', sum)\n",
        "print('for loop이 끝난 후 찍힘:', sum)"
      ],
      "metadata": {
        "colab": {
          "base_uri": "https://localhost:8080/"
        },
        "id": "0m-zYZWpnKNU",
        "outputId": "17b9d209-c8ba-4d93-d2f9-17dd8ed6d2eb"
      },
      "execution_count": 11,
      "outputs": [
        {
          "output_type": "stream",
          "name": "stdout",
          "text": [
            "for loop이 돌 때마다 찍힘: 1\n",
            "for loop이 돌 때마다 찍힘: 3\n",
            "for loop이 돌 때마다 찍힘: 6\n",
            "for loop이 돌 때마다 찍힘: 10\n",
            "for loop이 돌 때마다 찍힘: 15\n",
            "for loop이 돌 때마다 찍힘: 21\n",
            "for loop이 돌 때마다 찍힘: 28\n",
            "for loop이 돌 때마다 찍힘: 36\n",
            "for loop이 돌 때마다 찍힘: 45\n",
            "for loop이 돌 때마다 찍힘: 55\n",
            "for loop이 끝난 후 찍힘: 55\n"
          ]
        }
      ]
    },
    {
      "cell_type": "markdown",
      "source": [
        "### 4. 코드 블록"
      ],
      "metadata": {
        "id": "WON_50xVsnpL"
      }
    },
    {
      "cell_type": "code",
      "source": [
        "# 콜론(:)과 이후 들여쓰기로 코드 블록이 결정됨\n",
        "if sum % 2 == 1:\n",
        "    print(sum)\n",
        "    print('홀수입니다.')"
      ],
      "metadata": {
        "colab": {
          "base_uri": "https://localhost:8080/"
        },
        "id": "7-hf-smhsbrg",
        "outputId": "b02617d2-d5bd-4f22-d5ed-71ce1709ca96"
      },
      "execution_count": 16,
      "outputs": [
        {
          "output_type": "stream",
          "name": "stdout",
          "text": [
            "55\n",
            "홀수입니다.\n"
          ]
        }
      ]
    },
    {
      "cell_type": "code",
      "source": [],
      "metadata": {
        "id": "hTShBnVOs4HY"
      },
      "execution_count": null,
      "outputs": []
    }
  ]
}
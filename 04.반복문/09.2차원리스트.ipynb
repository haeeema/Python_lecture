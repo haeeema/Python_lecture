{
 "cells": [
  {
   "cell_type": "markdown",
   "metadata": {},
   "source": [
    "### 4.9 2차원 리스트"
   ]
  },
  {
   "cell_type": "code",
   "execution_count": 13,
   "metadata": {},
   "outputs": [
    {
     "data": {
      "text/plain": [
       "[[10, 20], [30, 40], [50, 60]]"
      ]
     },
     "execution_count": 13,
     "metadata": {},
     "output_type": "execute_result"
    }
   ],
   "source": [
    "a = [[10, 20],[30, 40],[50, 60]]\n",
    "a"
   ]
  },
  {
   "cell_type": "code",
   "execution_count": 2,
   "metadata": {},
   "outputs": [
    {
     "name": "stdout",
     "output_type": "stream",
     "text": [
      "[[10, 20],\n",
      " [30, 40],\n",
      " [50, 60]]\n"
     ]
    }
   ],
   "source": [
    "from pprint import pprint\n",
    "pprint(a, width=20)"
   ]
  },
  {
   "cell_type": "code",
   "execution_count": 3,
   "metadata": {},
   "outputs": [
    {
     "data": {
      "text/plain": [
       "array([[10, 20],\n",
       "       [30, 40],\n",
       "       [50, 60]])"
      ]
     },
     "execution_count": 3,
     "metadata": {},
     "output_type": "execute_result"
    }
   ],
   "source": [
    "import numpy as np\n",
    "b = np.arange(10, 61, 10).reshape(3, 2)\n",
    "b"
   ]
  },
  {
   "cell_type": "code",
   "execution_count": 7,
   "metadata": {},
   "outputs": [
    {
     "data": {
      "text/html": [
       "<div>\n",
       "<style scoped>\n",
       "    .dataframe tbody tr th:only-of-type {\n",
       "        vertical-align: middle;\n",
       "    }\n",
       "\n",
       "    .dataframe tbody tr th {\n",
       "        vertical-align: top;\n",
       "    }\n",
       "\n",
       "    .dataframe thead th {\n",
       "        text-align: right;\n",
       "    }\n",
       "</style>\n",
       "<table border=\"1\" class=\"dataframe\">\n",
       "  <thead>\n",
       "    <tr style=\"text-align: right;\">\n",
       "      <th></th>\n",
       "      <th>first</th>\n",
       "      <th>second</th>\n",
       "    </tr>\n",
       "  </thead>\n",
       "  <tbody>\n",
       "    <tr>\n",
       "      <th>0</th>\n",
       "      <td>10</td>\n",
       "      <td>20</td>\n",
       "    </tr>\n",
       "    <tr>\n",
       "      <th>1</th>\n",
       "      <td>30</td>\n",
       "      <td>40</td>\n",
       "    </tr>\n",
       "    <tr>\n",
       "      <th>2</th>\n",
       "      <td>50</td>\n",
       "      <td>60</td>\n",
       "    </tr>\n",
       "  </tbody>\n",
       "</table>\n",
       "</div>"
      ],
      "text/plain": [
       "   first  second\n",
       "0     10      20\n",
       "1     30      40\n",
       "2     50      60"
      ]
     },
     "execution_count": 7,
     "metadata": {},
     "output_type": "execute_result"
    }
   ],
   "source": [
    "import pandas as pd\n",
    "df = pd.DataFrame(b, columns=['first', 'second'])\n",
    "df"
   ]
  },
  {
   "cell_type": "markdown",
   "metadata": {},
   "source": [
    "- 인덱싱"
   ]
  },
  {
   "cell_type": "code",
   "execution_count": 8,
   "metadata": {},
   "outputs": [
    {
     "data": {
      "text/plain": [
       "(30, 30, 30)"
      ]
     },
     "execution_count": 8,
     "metadata": {},
     "output_type": "execute_result"
    }
   ],
   "source": [
    "# 30\n",
    "a[1][0], b[1,0], df['first'][1]"
   ]
  },
  {
   "cell_type": "markdown",
   "metadata": {},
   "source": [
    "- 2차원 리스트의 반복문"
   ]
  },
  {
   "cell_type": "code",
   "execution_count": 9,
   "metadata": {},
   "outputs": [
    {
     "name": "stdout",
     "output_type": "stream",
     "text": [
      "[10, 20]\n",
      "[30, 40]\n",
      "[50, 60]\n"
     ]
    }
   ],
   "source": [
    "for row in a:\n",
    "    print(row)"
   ]
  },
  {
   "cell_type": "code",
   "execution_count": 14,
   "metadata": {},
   "outputs": [
    {
     "data": {
      "text/plain": [
       "3"
      ]
     },
     "execution_count": 14,
     "metadata": {},
     "output_type": "execute_result"
    }
   ],
   "source": [
    "len(a)"
   ]
  },
  {
   "cell_type": "code",
   "execution_count": 12,
   "metadata": {},
   "outputs": [
    {
     "data": {
      "text/plain": [
       "[10, 20]"
      ]
     },
     "execution_count": 12,
     "metadata": {},
     "output_type": "execute_result"
    }
   ],
   "source": [
    "a[0]"
   ]
  },
  {
   "cell_type": "markdown",
   "metadata": {},
   "source": [
    "- 반복문으로 2차원 리스트 만들기"
   ]
  },
  {
   "cell_type": "code",
   "execution_count": 18,
   "metadata": {},
   "outputs": [
    {
     "name": "stdout",
     "output_type": "stream",
     "text": [
      "[[1, 4, 5, 3],\n",
      " [3, 3, 5, 4],\n",
      " [5, 6, 2, 1]]\n"
     ]
    }
   ],
   "source": [
    "# 주사위를 던져서 나오는 눈으로 만든 3X4 리스트\n",
    "import random\n",
    "outer_list = []\n",
    "for i in range(3):\n",
    "    inner_list = []\n",
    "    for k in range(4):\n",
    "        inner_list.append(random.randint(1, 6))\n",
    "    outer_list.append(inner_list)\n",
    "pprint(outer_list, width=20)\n"
   ]
  },
  {
   "cell_type": "code",
   "execution_count": 31,
   "metadata": {},
   "outputs": [
    {
     "name": "stdout",
     "output_type": "stream",
     "text": [
      "[['🤢', '😈', '😈', '🤢', '🤢', '🤢', '😈', '😈'],\n",
      " ['🤢', '😈', '🤢', '🤢', '🤢', '🤢', '🤢', '🤢'],\n",
      " ['😈', '🤢', '🤢', '🤢', '🤢', '🤢', '🤢', '🤢'],\n",
      " ['🤢', '🤢', '🤢', '🤢', '🤢', '😈', '🤢', '🤢'],\n",
      " ['🤢', '😈', '🤢', '🤢', '😈', '🤢', '🤢', '🤢'],\n",
      " ['🤢', '🤢', '😈', '😈', '🤢', '🤢', '😈', '🤢'],\n",
      " ['😈', '🤢', '😈', '🤢', '🤢', '🤢', '🤢', '🤢'],\n",
      " ['🤢', '😈', '😈', '🤢', '🤢', '🤢', '🤢', '🤢']]\n"
     ]
    }
   ],
   "source": [
    "import random\n",
    "mine = [['😈' if random.random() > 0.7 else '🤢'\n",
    "                    for k in range(8)]\n",
    "                        for i in range(8)]\n",
    "pprint(mine, width=100)"
   ]
  },
  {
   "cell_type": "code",
   "execution_count": 42,
   "metadata": {},
   "outputs": [
    {
     "name": "stdout",
     "output_type": "stream",
     "text": [
      "[['*', 1, 0, 0, '*', 2, '*', 2],\n",
      " [2, 1, 0, '*', '*', '*', 2, '*'],\n",
      " ['*', '*', 1, 1, 2, '*', 2, '*'],\n",
      " [2, 2, 1, '*', 1, 1, '*', 2],\n",
      " [0, '*', '*', 2, 1, 0, '*', 2],\n",
      " [0, '*', 3, 1, 0, 0, 1, 1],\n",
      " ['*', '*', '*', '*', 1, 0, '*', 1],\n",
      " [2, 2, 2, 2, 1, '*', 2, '*']]\n"
     ]
    }
   ],
   "source": [
    "# mine\n",
    "import random\n",
    "outer_mine = []\n",
    "for i in range(8):\n",
    "    inner_mine = []\n",
    "    for k in range(8):\n",
    "        inner_mine.append('*' if random.random() > 0.7 else '🤢')\n",
    "    outer_mine.append(inner_mine)\n",
    "for i in range(8):\n",
    "    for k in range(8):\n",
    "        if outer_mine[i][k] == '🤢':\n",
    "            counter = 0\n",
    "            for i in range(i-1, i+1):\n",
    "                for k in range(k-1, k+1):\n",
    "                    if outer_mine[i][k] == '*':\n",
    "                        counter+=1\n",
    "            outer_mine[i][k] = counter\n",
    "pprint(outer_mine, width=100)"
   ]
  },
  {
   "cell_type": "code",
   "execution_count": 47,
   "metadata": {},
   "outputs": [
    {
     "data": {
      "text/plain": [
       "[['🤢', '🤢', '🤢', '🤢', '🤢', '🤢', '🤢', '🤢', '🤢', '🤢'],\n",
       " ['🤢', '🤢', '🤢', '🤢', '😡', '😡', '🤢', '🤢', '😡', '🤢'],\n",
       " ['🤢', '🤢', '🤢', '😡', '🤢', '🤢', '🤢', '🤢', '😡', '🤢'],\n",
       " ['🤢', '😡', '😡', '🤢', '😡', '😡', '🤢', '😡', '😡', '🤢'],\n",
       " ['🤢', '🤢', '🤢', '🤢', '😡', '😡', '🤢', '🤢', '😡', '🤢'],\n",
       " ['🤢', '🤢', '🤢', '😡', '😡', '🤢', '🤢', '😡', '🤢', '🤢'],\n",
       " ['🤢', '🤢', '🤢', '🤢', '🤢', '🤢', '🤢', '😡', '😡', '🤢'],\n",
       " ['🤢', '🤢', '🤢', '😡', '🤢', '😡', '🤢', '🤢', '🤢', '🤢'],\n",
       " ['🤢', '😡', '🤢', '🤢', '😡', '🤢', '😡', '🤢', '🤢', '🤢'],\n",
       " ['🤢', '🤢', '🤢', '🤢', '🤢', '🤢', '🤢', '🤢', '🤢', '🤢']]"
      ]
     },
     "execution_count": 47,
     "metadata": {},
     "output_type": "execute_result"
    }
   ],
   "source": [
    "# padding mine\n",
    "import random\n",
    "outer_mine = []\n",
    "for i in range(10):\n",
    "    inner_mine = []\n",
    "    for k in range(10):\n",
    "        if i == 0 or i == 9:\n",
    "            inner_mine.append('🤢')\n",
    "        else:\n",
    "            if k == 0 or k == 9:\n",
    "                inner_mine.append('🤢')\n",
    "            else:\n",
    "                inner_mine.append('😡' if random.random() > 0.7 else '🤢')\n",
    "    outer_mine.append(inner_mine)\n",
    "outer_mine"
   ]
  },
  {
   "cell_type": "code",
   "execution_count": 86,
   "metadata": {},
   "outputs": [
    {
     "data": {
      "text/plain": [
       "[['🤢', '🤢', '🤢', '🤢', '🤢', '🤢', '🤢', '🤢', '🤢', '🤢'],\n",
       " ['🤢', '1️⃣', '2️⃣', '😡', '😡', '1️⃣', '1️⃣', '1️⃣', '1️⃣', '🤢'],\n",
       " ['🤢', '😡', '3️⃣', '3️⃣', '2️⃣', '2️⃣', '2️⃣', '😡', '1️⃣', '🤢'],\n",
       " ['🤢', '4️⃣', '😡', '3️⃣', '2️⃣', '2️⃣', '😡', '2️⃣', '1️⃣', '🤢'],\n",
       " ['🤢', '😡', '😡', '😡', '3️⃣', '😡', '3️⃣', '2️⃣', '0️⃣', '🤢'],\n",
       " ['🤢', '5️⃣', '😡', '6️⃣', '😡', '4️⃣', '😡', '1️⃣', '0️⃣', '🤢'],\n",
       " ['🤢', '😡', '😡', '5️⃣', '😡', '4️⃣', '2️⃣', '2️⃣', '1️⃣', '🤢'],\n",
       " ['🤢', '😡', '4️⃣', '4️⃣', '😡', '2️⃣', '1️⃣', '😡', '1️⃣', '🤢'],\n",
       " ['🤢', '2️⃣', '😡', '2️⃣', '1️⃣', '1️⃣', '1️⃣', '1️⃣', '1️⃣', '🤢'],\n",
       " ['🤢', '🤢', '🤢', '🤢', '🤢', '🤢', '🤢', '🤢', '🤢', '🤢']]"
      ]
     },
     "execution_count": 86,
     "metadata": {},
     "output_type": "execute_result"
    }
   ],
   "source": [
    "# padding mine\n",
    "import random\n",
    "outer_mine = []\n",
    "for i in range(10):\n",
    "    inner_mine = []\n",
    "    for k in range(10):\n",
    "        if i == 0 or i == 9:\n",
    "            inner_mine.append('🤢')\n",
    "        else:\n",
    "            if k == 0 or k == 9:\n",
    "                inner_mine.append('🤢')\n",
    "            else:\n",
    "                inner_mine.append('😡' if random.random() > 0.7 else '🤢')\n",
    "    outer_mine.append(inner_mine)\n",
    "for i in range(1, 9):\n",
    "    for k in range(1, 9):\n",
    "        if outer_mine[i][k] == '🤢':\n",
    "            count = 0\n",
    "            if outer_mine[i-1][k-1] == '😡':\n",
    "                count += 1\n",
    "            if outer_mine[i-1][k] == '😡':\n",
    "                count += 1\n",
    "            if outer_mine[i-1][k+1] == '😡':\n",
    "                count += 1\n",
    "            if outer_mine[i][k-1] == '😡':\n",
    "                count += 1\n",
    "            if outer_mine[i][k+1] == '😡':\n",
    "                count += 1\n",
    "            if outer_mine[i+1][k-1] == '😡':\n",
    "                count += 1\n",
    "            if outer_mine[i+1][k] == '😡':\n",
    "                count += 1\n",
    "            if outer_mine[i+1][k+1] == '😡':\n",
    "                count += 1\n",
    "            outer_mine[i][k] = '0️⃣' if count == 0 else '1️⃣' if count == 1 else '2️⃣' if count == 2 else '3️⃣' if count == 3 else '4️⃣' if count == 4 else '5️⃣' if count == 5 else '6️⃣' if count == 6 else '7️⃣' if count == 7 else '8️⃣' if count == 8 else '👾'       \n",
    "outer_mine"
   ]
  },
  {
   "cell_type": "code",
   "execution_count": 84,
   "metadata": {},
   "outputs": [
    {
     "ename": "NameError",
     "evalue": "name 'mines' is not defined",
     "output_type": "error",
     "traceback": [
      "\u001b[1;31m---------------------------------------------------------------------------\u001b[0m",
      "\u001b[1;31mNameError\u001b[0m                                 Traceback (most recent call last)",
      "Cell \u001b[1;32mIn[84], line 5\u001b[0m\n\u001b[0;32m      3\u001b[0m top_line \u001b[39m=\u001b[39m [\u001b[39m'\u001b[39m\u001b[39m.\u001b[39m\u001b[39m'\u001b[39m] \u001b[39m*\u001b[39m \u001b[39m10\u001b[39m\n\u001b[0;32m      4\u001b[0m pad_mines\u001b[39m.\u001b[39mappend(top_line)\n\u001b[1;32m----> 5\u001b[0m \u001b[39mfor\u001b[39;00m row \u001b[39min\u001b[39;00m mines:\n\u001b[0;32m      6\u001b[0m     pad_row \u001b[39m=\u001b[39m [\u001b[39m'\u001b[39m\u001b[39m.\u001b[39m\u001b[39m'\u001b[39m]\n\u001b[0;32m      7\u001b[0m     \u001b[39mfor\u001b[39;00m element \u001b[39min\u001b[39;00m row:\n",
      "\u001b[1;31mNameError\u001b[0m: name 'mines' is not defined"
     ]
    }
   ],
   "source": [
    "# mines --> pad_maines로 변환\n",
    "pad_mines = []\n",
    "top_line = ['.'] * 10\n",
    "pad_mines.append(top_line)\n",
    "for row in mines:\n",
    "    pad_row = ['.']\n",
    "    for element in row:\n",
    "        pad_row.append(element)\n",
    "    pad_row.append('.')\n",
    "    pad_mines.append(pad_row)\n",
    "pad_mines.append(top_line)\n",
    "\n",
    "for row in pad_mines:\n",
    "    for elem in row:\n",
    "        print(elem, end=' ')\n",
    "    print()"
   ]
  },
  {
   "cell_type": "markdown",
   "metadata": {},
   "source": [
    "- 표현식"
   ]
  },
  {
   "cell_type": "code",
   "execution_count": 29,
   "metadata": {},
   "outputs": [
    {
     "name": "stdout",
     "output_type": "stream",
     "text": [
      "[[4, 3, 2, 5],\n",
      " [1, 5, 2, 5],\n",
      " [2, 2, 4, 1]]\n"
     ]
    }
   ],
   "source": [
    "outer_list = []\n",
    "for i in range(3):\n",
    "    inner_list = [random.randint(1, 6) for k in range(4)]\n",
    "    outer_list.append(inner_list)\n",
    "pprint(outer_list, width=20)"
   ]
  },
  {
   "cell_type": "code",
   "execution_count": 30,
   "metadata": {},
   "outputs": [
    {
     "name": "stdout",
     "output_type": "stream",
     "text": [
      "[[5, 5, 5, 5],\n",
      " [4, 2, 5, 1],\n",
      " [2, 5, 4, 4]]\n"
     ]
    }
   ],
   "source": [
    "outer_list = [[random.randint(1, 6) for k in range(4)] for i in range(3)]\n",
    "pprint(outer_list, width=20)"
   ]
  },
  {
   "cell_type": "code",
   "execution_count": null,
   "metadata": {},
   "outputs": [],
   "source": []
  }
 ],
 "metadata": {
  "kernelspec": {
   "display_name": "base",
   "language": "python",
   "name": "python3"
  },
  "language_info": {
   "codemirror_mode": {
    "name": "ipython",
    "version": 3
   },
   "file_extension": ".py",
   "mimetype": "text/x-python",
   "name": "python",
   "nbconvert_exporter": "python",
   "pygments_lexer": "ipython3",
   "version": "3.11.4"
  },
  "orig_nbformat": 4
 },
 "nbformat": 4,
 "nbformat_minor": 2
}

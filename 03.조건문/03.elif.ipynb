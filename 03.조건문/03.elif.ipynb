{
 "cells": [
  {
   "cell_type": "markdown",
   "metadata": {},
   "source": [
    "### 3.3 elif"
   ]
  },
  {
   "cell_type": "code",
   "execution_count": 1,
   "metadata": {},
   "outputs": [],
   "source": [
    "import datetime\n",
    "now = datetime.datetime.now()"
   ]
  },
  {
   "cell_type": "code",
   "execution_count": 10,
   "metadata": {},
   "outputs": [
    {
     "name": "stdout",
     "output_type": "stream",
     "text": [
      "여름 8\n"
     ]
    }
   ],
   "source": [
    "if 3 <= now.month <=5:\n",
    "    print(\"봄\", now.month)\n",
    "elif 6 <= now.month <=8:\n",
    "    print(\"여름\", now.month)\n",
    "elif 9 <= now.month <=11:\n",
    "    print(\"가을\", now.month)\n",
    "else:\n",
    "    print(\"겨울\", now.month)"
   ]
  },
  {
   "cell_type": "code",
   "execution_count": 8,
   "metadata": {},
   "outputs": [
    {
     "data": {
      "text/plain": [
       "(85, 'B')"
      ]
     },
     "execution_count": 8,
     "metadata": {},
     "output_type": "execute_result"
    }
   ],
   "source": [
    "# 90점 이상이면 A, 80점 이상이면 B, 70점 이상이면 C, 60점 이상이면 D, 나머지는 F\n",
    "import random\n",
    "score = random.randint(40, 100)\n",
    "\n",
    "if score >= 90:\n",
    "    grade = \"A\"\n",
    "elif score >= 80:\n",
    "    grade = \"B\"\n",
    "elif score >= 70:\n",
    "    grade = \"C\"\n",
    "elif score >= 60:\n",
    "    grade = \"D\"\n",
    "else:  \n",
    "    grade = \"F\"\n",
    "score, grade"
   ]
  },
  {
   "cell_type": "code",
   "execution_count": 9,
   "metadata": {},
   "outputs": [
    {
     "name": "stdout",
     "output_type": "stream",
     "text": [
      "평년\n"
     ]
    }
   ],
   "source": [
    "# 년도 입력, 윤년 여부 판단\n",
    "# 400으로 나눠서 떨어지면 윤년, 100으로 나눠서 떨어지면 평년\n",
    "# 4로 나눠서 떨어지면 윤년 아니면 평년\n",
    "year = int(input(\"년도를 입력> \"))\n",
    "if year % 400 == 0:\n",
    "    print(\"윤년\")\n",
    "elif year % 100 == 0:\n",
    "    print(\"평년\")\n",
    "elif year % 4 == 0:\n",
    "    print(\"윤년\")\n",
    "else:\n",
    "    print(\"평년\")\n"
   ]
  },
  {
   "cell_type": "code",
   "execution_count": 27,
   "metadata": {},
   "outputs": [
    {
     "data": {
      "text/plain": [
       "(1990, 8, 30)"
      ]
     },
     "execution_count": 27,
     "metadata": {},
     "output_type": "execute_result"
    }
   ],
   "source": [
    "# 생년월일을 입력으로 받아, 오늘 날짜의 만 나이를 구하시오\n",
    "b_year, b_month, b_day = map(int, input(\"생년월일을 입력> \").split())\n",
    "b_year, b_month, b_day\n"
   ]
  },
  {
   "cell_type": "code",
   "execution_count": 12,
   "metadata": {},
   "outputs": [
    {
     "data": {
      "text/plain": [
       "(2023, 8, 29)"
      ]
     },
     "execution_count": 12,
     "metadata": {},
     "output_type": "execute_result"
    }
   ],
   "source": [
    "t_year, t_month, t_day = now.year, now.month, now.day\n",
    "t_year, t_month, t_day"
   ]
  },
  {
   "cell_type": "code",
   "execution_count": 28,
   "metadata": {},
   "outputs": [
    {
     "name": "stdout",
     "output_type": "stream",
     "text": [
      "나이는 32\n"
     ]
    }
   ],
   "source": [
    "if t_month == b_month:\n",
    "    if t_day < b_day:\n",
    "        print('나이는 {}'.format(t_year-b_year-1))\n",
    "    else:\n",
    "        print('나이는 {}'.format(t_year-b_year))\n",
    "elif t_month > b_month:\n",
    "    print('나이는 {}'.format(t_year-b_year))\n",
    "else:\n",
    "    print('나이는 {}'.format(t_year-b_year-1))\n",
    "    "
   ]
  },
  {
   "cell_type": "code",
   "execution_count": 29,
   "metadata": {},
   "outputs": [
    {
     "name": "stdout",
     "output_type": "stream",
     "text": [
      "나이는 32\n"
     ]
    }
   ],
   "source": [
    "if b_month * 100 + b_day > t_month * 100 + t_day:\n",
    "    print('나이는 {}'.format(t_year-b_year-1))\n",
    "else:\n",
    "    print('나이는 {}'.format(t_year-b_year))"
   ]
  },
  {
   "cell_type": "markdown",
   "metadata": {},
   "source": [
    "- False로 변환되는 값"
   ]
  },
  {
   "cell_type": "code",
   "execution_count": 32,
   "metadata": {},
   "outputs": [
    {
     "data": {
      "text/plain": [
       "(True, False, False)"
      ]
     },
     "execution_count": 32,
     "metadata": {},
     "output_type": "execute_result"
    }
   ],
   "source": [
    "bool(1), bool(0), bool(0.0)"
   ]
  },
  {
   "cell_type": "code",
   "execution_count": 33,
   "metadata": {},
   "outputs": [
    {
     "data": {
      "text/plain": [
       "(True, False, False)"
      ]
     },
     "execution_count": 33,
     "metadata": {},
     "output_type": "execute_result"
    }
   ],
   "source": [
    "bool('a'), bool(''), bool(None)"
   ]
  },
  {
   "cell_type": "code",
   "execution_count": 34,
   "metadata": {},
   "outputs": [
    {
     "data": {
      "text/plain": [
       "(False, False, False)"
      ]
     },
     "execution_count": 34,
     "metadata": {},
     "output_type": "execute_result"
    }
   ],
   "source": [
    "# empty list, empty tuple, empty dictionary\n",
    "bool([]), bool(()), bool({})"
   ]
  }
 ],
 "metadata": {
  "kernelspec": {
   "display_name": "base",
   "language": "python",
   "name": "python3"
  },
  "language_info": {
   "codemirror_mode": {
    "name": "ipython",
    "version": 3
   },
   "file_extension": ".py",
   "mimetype": "text/x-python",
   "name": "python",
   "nbconvert_exporter": "python",
   "pygments_lexer": "ipython3",
   "version": "3.11.4"
  },
  "orig_nbformat": 4
 },
 "nbformat": 4,
 "nbformat_minor": 2
}

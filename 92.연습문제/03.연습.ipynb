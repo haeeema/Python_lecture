{
 "cells": [
  {
   "cell_type": "markdown",
   "metadata": {},
   "source": [
    "Q1. 하루중 디지털 시계에서 3이 표시되는 시간은 몇 초인가?"
   ]
  },
  {
   "cell_type": "code",
   "execution_count": null,
   "metadata": {},
   "outputs": [],
   "source": [
    "count = 0\n",
    "for hour in range(24):\n",
    "    for minute in range(60):\n",
    "        if '3' in f'{hour}{minute}':\n",
    "            count += 60\n",
    "print(count)"
   ]
  },
  {
   "cell_type": "markdown",
   "metadata": {},
   "source": [
    "Q2. 람다함수, 다음 리스트에서 제조사와 모델명을 분리해서 별도의 리스트를 만드세요"
   ]
  },
  {
   "cell_type": "code",
   "execution_count": 2,
   "metadata": {},
   "outputs": [
    {
     "data": {
      "text/plain": [
       "(['buick', 'plymouth', 'amc', 'ford'],\n",
       " ['skylark 320', 'satellite', 'rebel sst', 'torino'])"
      ]
     },
     "execution_count": 2,
     "metadata": {},
     "output_type": "execute_result"
    }
   ],
   "source": [
    "cars = ['buick skylark 320', 'plymouth satellite', 'amc rebel sst', 'ford torino']\n",
    "manu = [car.split(' ')[0] for car in cars]\n",
    "model = [' '.join(car.split(' ')[1:]) for car in cars]\n",
    "manu, model"
   ]
  },
  {
   "cell_type": "code",
   "execution_count": 2,
   "metadata": {},
   "outputs": [
    {
     "data": {
      "text/plain": [
       "(['buick', 'plymouth', 'amc', 'ford'],\n",
       " ['skylark 320', 'satellite', 'rebel sst', 'torino'])"
      ]
     },
     "execution_count": 2,
     "metadata": {},
     "output_type": "execute_result"
    }
   ],
   "source": [
    "cars = ['buick skylark 320', 'plymouth satellite', 'amc rebel sst', 'ford torino']\n",
    "manu_list = list(map(lambda x: x.split()[0], cars))\n",
    "model_list = list(map(lambda x: ' '.join(x.split()[1:]), cars))\n",
    "manu_list, model_list"
   ]
  },
  {
   "cell_type": "markdown",
   "metadata": {},
   "source": [
    "Q3. class Account (계좌)를 만드세요"
   ]
  },
  {
   "cell_type": "code",
   "execution_count": 45,
   "metadata": {},
   "outputs": [],
   "source": [
    "class Account:\n",
    "    def __init__(self, ano, owner, balance):\n",
    "        self.ano = ano\n",
    "        self.owner = owner\n",
    "        if 0 <= balance <= 10000000:\n",
    "            self.balance = balance\n",
    "        else:\n",
    "            raise Exception('err')\n",
    "    \n",
    "    def deposit(self, amount):\n",
    "        if self.balance + amount < 10000000:\n",
    "            self.balance += amount\n",
    "        else:\n",
    "            print('err')\n",
    "    \n",
    "    def withdraw(self, amount):\n",
    "        if self.balance > amount:\n",
    "            self.balance -= amount\n",
    "        else:\n",
    "            print('err')\n",
    "    \n",
    "    def __str__(self):\n",
    "        return f'계좌번호: {self.ano}, 소유주: {self.owner}, 잔액: {self.balance:10,d}'"
   ]
  },
  {
   "cell_type": "code",
   "execution_count": 44,
   "metadata": {},
   "outputs": [
    {
     "name": "stdout",
     "output_type": "stream",
     "text": [
      "err\n"
     ]
    }
   ],
   "source": [
    "try:\n",
    "    account_a = Account(123, \"james\", 30000000)\n",
    "except Exception as e:\n",
    "    print(e)"
   ]
  },
  {
   "cell_type": "code",
   "execution_count": 11,
   "metadata": {},
   "outputs": [],
   "source": [
    "account_a.deposit(200000)"
   ]
  },
  {
   "cell_type": "code",
   "execution_count": 12,
   "metadata": {},
   "outputs": [
    {
     "name": "stdout",
     "output_type": "stream",
     "text": [
      "계좌번호: 123, 소유주: james, 잔액:    500,000\n"
     ]
    }
   ],
   "source": [
    "print(account_a)"
   ]
  }
 ],
 "metadata": {
  "kernelspec": {
   "display_name": "Python 3",
   "language": "python",
   "name": "python3"
  },
  "language_info": {
   "codemirror_mode": {
    "name": "ipython",
    "version": 3
   },
   "file_extension": ".py",
   "mimetype": "text/x-python",
   "name": "python",
   "nbconvert_exporter": "python",
   "pygments_lexer": "ipython3",
   "version": "3.11.4"
  },
  "orig_nbformat": 4
 },
 "nbformat": 4,
 "nbformat_minor": 2
}

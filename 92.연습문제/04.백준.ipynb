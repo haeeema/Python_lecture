{
 "cells": [
  {
   "cell_type": "markdown",
   "metadata": {},
   "source": [
    "2588 25304 2562 2675 10809 2908 3003 2444 1157 2738"
   ]
  },
  {
   "cell_type": "code",
   "execution_count": 7,
   "metadata": {},
   "outputs": [
    {
     "name": "stdout",
     "output_type": "stream",
     "text": [
      "2360\n",
      "3776\n",
      "1416\n",
      "181720\n"
     ]
    }
   ],
   "source": [
    "# 2588\n",
    "a = int(input())\n",
    "b = int(input())\n",
    "str_b = str(b)\n",
    "\n",
    "for s in str_b[::-1]:\n",
    "    print(a * int(s))\n",
    "print(a * b)"
   ]
  },
  {
   "cell_type": "code",
   "execution_count": 42,
   "metadata": {},
   "outputs": [
    {
     "name": "stdout",
     "output_type": "stream",
     "text": [
      "Yes\n"
     ]
    }
   ],
   "source": [
    "# 25304\n",
    "receipt_price = int(input())\n",
    "receipt_number = int(input())\n",
    "total_price = 0\n",
    "total_number = 0\n",
    "\n",
    "for _ in range(receipt_number):\n",
    "    price, number = map(int, input().split(' '))\n",
    "    total_price += price * number\n",
    "    total_number += 1\n",
    "if receipt_price == total_price and receipt_number == total_number:\n",
    "    print('Yes')\n",
    "else:\n",
    "    print('No')"
   ]
  },
  {
   "cell_type": "code",
   "execution_count": 11,
   "metadata": {},
   "outputs": [
    {
     "name": "stdout",
     "output_type": "stream",
     "text": [
      "85\n",
      "8\n"
     ]
    }
   ],
   "source": [
    "# 2562\n",
    "list_ = [int(input()) for _ in range(9)]\n",
    "index_ = 0\n",
    "\n",
    "print(max(list_))\n",
    "for i in list_:\n",
    "    if i != max(list_):\n",
    "        index_ += 1\n",
    "    else:\n",
    "        print(index_ + 1)"
   ]
  },
  {
   "cell_type": "code",
   "execution_count": 10,
   "metadata": {},
   "outputs": [
    {
     "name": "stdout",
     "output_type": "stream",
     "text": [
      "aaabbbccc\n",
      "/////hhhhhtttttppppp\n"
     ]
    }
   ],
   "source": [
    "# 2675\n",
    "list_ = []\n",
    "number = int(input())\n",
    "for _ in range(number):\n",
    "    list_.append(str(input()))\n",
    "for i in list_:\n",
    "    n, w = i.split()\n",
    "    for k in w:\n",
    "        print(k * int(n), end='')\n",
    "    print()"
   ]
  },
  {
   "cell_type": "code",
   "execution_count": 78,
   "metadata": {},
   "outputs": [
    {
     "name": "stdout",
     "output_type": "stream",
     "text": [
      "1 0 -1 -1 2 -1 -1 -1 -1 4 3 -1 -1 7 5 -1 -1 -1 -1 -1 -1 -1 -1 -1 -1 -1 "
     ]
    }
   ],
   "source": [
    "# 10809\n",
    "alpabet = 'abcdefghijklmnopqrstuvwxyz'\n",
    "s = str(input())\n",
    "\n",
    "for i in alpabet:\n",
    "    index_ = 0\n",
    "    if i in s:\n",
    "        for k in s:\n",
    "            index_ += 1\n",
    "            if i == k:\n",
    "                print(index_-1, end=' ')\n",
    "                break\n",
    "    else:\n",
    "        print('-1', end=' ')    "
   ]
  },
  {
   "cell_type": "code",
   "execution_count": 85,
   "metadata": {},
   "outputs": [
    {
     "name": "stdout",
     "output_type": "stream",
     "text": [
      "437\n"
     ]
    }
   ],
   "source": [
    "# 2908\n",
    "list_ = list(map(str, input().split()))\n",
    "print(max(list(map(lambda x: x[::-1], list_))))"
   ]
  },
  {
   "cell_type": "code",
   "execution_count": 41,
   "metadata": {},
   "outputs": [
    {
     "name": "stdout",
     "output_type": "stream",
     "text": [
      "1 0 0 0 0 1 "
     ]
    }
   ],
   "source": [
    "# 3003 ❌\n",
    "normal = [1, 1, 2, 2, 2, 8]\n",
    "present = list(map(int, input().split()))\n",
    "\n",
    "for i in range(6):\n",
    "    print(int(normal[i]) - int(present[i]), end=' ')"
   ]
  },
  {
   "cell_type": "code",
   "execution_count": 30,
   "metadata": {},
   "outputs": [
    {
     "name": "stdout",
     "output_type": "stream",
     "text": [
      "    *\n",
      "   ***\n",
      "  *****\n",
      " *******\n",
      "*********\n",
      " *******\n",
      "  *****\n",
      "   ***\n",
      "    *\n"
     ]
    }
   ],
   "source": [
    "# 2444\n",
    "number = int(input())\n",
    "\n",
    "for i in range(1, number + 1):\n",
    "    print(' ' * (number - i), end='')\n",
    "    print('*' * (2 * i - 1))\n",
    "for i in range(1, number):\n",
    "    print(' ' * (i) , end='')\n",
    "    print('*' * (2 * (number - i) -1))"
   ]
  },
  {
   "cell_type": "code",
   "execution_count": 34,
   "metadata": {},
   "outputs": [
    {
     "name": "stdout",
     "output_type": "stream",
     "text": [
      "Z\n"
     ]
    }
   ],
   "source": [
    "# 1157\n",
    "alphabet_dict = {}\n",
    "\n",
    "word = str(input().upper())\n",
    "\n",
    "for alphabet in word:\n",
    "    if alphabet in alphabet_dict:\n",
    "        alphabet_dict[alphabet] += 1\n",
    "    else:\n",
    "        alphabet_dict[alphabet] = 1\n",
    "\n",
    "sorted_dict = sorted(alphabet_dict.items(), key = lambda item: item[1], reverse = True)\n",
    "\n",
    "if len(sorted_dict) == 1:\n",
    "    print(sorted_dict[0][0])\n",
    "elif sorted_dict[0][1] == sorted_dict[1][1]:\n",
    "    print('?')\n",
    "else:\n",
    "    print(sorted_dict[0][0])"
   ]
  },
  {
   "cell_type": "code",
   "execution_count": 6,
   "metadata": {},
   "outputs": [
    {
     "name": "stdout",
     "output_type": "stream",
     "text": [
      "[[1, 1, 1], [2, 2, 2], [0, 1, 0]]\n",
      "[[3, 3, 3], [4, 4, 4], [5, 5, 100]]\n",
      "\n",
      "4 4 4 \n",
      "6 6 6 \n",
      "5 6 100 "
     ]
    }
   ],
   "source": [
    "# 2738\n",
    "n, m = map(int, input().split())\n",
    "\n",
    "matrix_1 =[list(map(int, input().split())) for _ in range(n)]\n",
    "matrix_2 = [list(map(int, input().split())) for _ in range(n)]\n",
    "\n",
    "for i in range(n):\n",
    "    print()\n",
    "    for k in range(m):\n",
    "        print(matrix_1[i][k] + matrix_2[i][k], end=' ')"
   ]
  }
 ],
 "metadata": {
  "kernelspec": {
   "display_name": "base",
   "language": "python",
   "name": "python3"
  },
  "language_info": {
   "codemirror_mode": {
    "name": "ipython",
    "version": 3
   },
   "file_extension": ".py",
   "mimetype": "text/x-python",
   "name": "python",
   "nbconvert_exporter": "python",
   "pygments_lexer": "ipython3",
   "version": "3.11.4"
  },
  "orig_nbformat": 4
 },
 "nbformat": 4,
 "nbformat_minor": 2
}

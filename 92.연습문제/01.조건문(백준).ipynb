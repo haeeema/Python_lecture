{
 "cells": [
  {
   "cell_type": "code",
   "execution_count": 1,
   "metadata": {},
   "outputs": [
    {
     "name": "stdout",
     "output_type": "stream",
     "text": [
      "1\n"
     ]
    }
   ],
   "source": [
    "# 14681\n",
    "x = int(input())\n",
    "y = int(input())\n",
    "\n",
    "if x > 0 and y > 0:\n",
    "    print(1)\n",
    "elif x < 0 and y > 0:\n",
    "    print(2)\n",
    "elif x < 0 and y < 0:\n",
    "    print(3)\n",
    "else:\n",
    "    print(4)"
   ]
  },
  {
   "cell_type": "code",
   "execution_count": 13,
   "metadata": {},
   "outputs": [
    {
     "name": "stdout",
     "output_type": "stream",
     "text": [
      "0 13\n"
     ]
    }
   ],
   "source": [
    "# 2525\n",
    "hour, minute = map(int, input().split())\n",
    "time = int(input())\n",
    "\n",
    "if minute + time >= 60:\n",
    "    hour += (minute + time) // 60\n",
    "    minute = (minute + time) % 60\n",
    "else:\n",
    "    minute += time\n",
    "\n",
    "if hour >= 24:\n",
    "    hour = hour % 24\n",
    "\n",
    "print(hour, minute)"
   ]
  },
  {
   "cell_type": "code",
   "execution_count": null,
   "metadata": {},
   "outputs": [],
   "source": [
    "# 2525-1\n",
    "print((hour + (minute + time) // 60) % 24, (minute + time) % 60)"
   ]
  },
  {
   "cell_type": "code",
   "execution_count": 20,
   "metadata": {},
   "outputs": [
    {
     "name": "stdout",
     "output_type": "stream",
     "text": [
      "23 45\n"
     ]
    }
   ],
   "source": [
    "# 2884\n",
    "hour, minute = map(int, input().split())\n",
    "\n",
    "if minute - 45 < 0:\n",
    "    hour -= 1\n",
    "    minute += 15\n",
    "    if hour < 0:\n",
    "        hour = 23\n",
    "else:\n",
    "    minute -= 45\n",
    "\n",
    "print(hour, minute)"
   ]
  },
  {
   "cell_type": "code",
   "execution_count": 15,
   "metadata": {},
   "outputs": [
    {
     "name": "stdout",
     "output_type": "stream",
     "text": [
      "22 55\n"
     ]
    }
   ],
   "source": [
    "# 2884-1\n",
    "hour, minute = map(int, input().split())\n",
    "print((23 if hour==0 else hour-1) if minute-45<0 else hour, minute+15 if minute-45<0 else minute-45)"
   ]
  },
  {
   "cell_type": "code",
   "execution_count": 26,
   "metadata": {},
   "outputs": [
    {
     "name": "stdout",
     "output_type": "stream",
     "text": [
      "22 55\n"
     ]
    }
   ],
   "source": [
    "# NM\n",
    "H, M = map(int, input().split())\n",
    "if M<45:\n",
    "    if H<1:\n",
    "        print(f'{23-H} {M-45+60}')\n",
    "    if H>=1:\n",
    "        print(f'{H-1} {M-45+60}')\n",
    "else:\n",
    "    print(f'{H} {M-45}')\n"
   ]
  },
  {
   "cell_type": "code",
   "execution_count": 2,
   "metadata": {},
   "outputs": [
    {
     "name": "stdout",
     "output_type": "stream",
     "text": [
      "100\n"
     ]
    }
   ],
   "source": [
    "# 2480\n",
    "numbers = list(map(int, input().split()))\n",
    "temp=0\n",
    "\n",
    "if numbers[0]==numbers[1]==numbers[2]:\n",
    "    aword=10000+numbers[0]*1000\n",
    "elif numbers[0]==numbers[1]:\n",
    "    aword=1000+numbers[0]*100\n",
    "elif numbers[1]==numbers[2]:\n",
    "    aword=1000+numbers[1]*100\n",
    "elif numbers[0]==numbers[2]:\n",
    "    aword=1000+numbers[0]*100\n",
    "else:\n",
    "    for i in numbers:\n",
    "        if temp > i:\n",
    "            temp=i\n",
    "    aword=i*100\n",
    "\n",
    "print(aword)\n"
   ]
  },
  {
   "cell_type": "code",
   "execution_count": 39,
   "metadata": {},
   "outputs": [],
   "source": [
    "# 2480\n",
    "a, b, c = map(int, input().split())\n",
    "\n",
    "if a == b == c:\n",
    "    print(10000 + a * 1000)\n",
    "elif a == b:\n",
    "    print(1000 + a * 100)\n",
    "elif b == c:\n",
    "    print(1000 + b * 100)\n",
    "elif a == c:\n",
    "    print(1000 + a * 100)\n",
    "else:\n",
    "    print(max(a, b, c) * 100)\n",
    "        \n",
    "\n"
   ]
  },
  {
   "cell_type": "code",
   "execution_count": 17,
   "metadata": {},
   "outputs": [
    {
     "name": "stdout",
     "output_type": "stream",
     "text": [
      "300\n"
     ]
    }
   ],
   "source": [
    "# 2480-1\n",
    "a, b, c = map(int, input().split())\n",
    "print(10000 + a * 1000 if a==b==c else 1000 + a * 100 if a==b else 1000 + b * 100 if b==c else 1000 + a * 100 if a==c else max(a, b, c) * 100)"
   ]
  }
 ],
 "metadata": {
  "kernelspec": {
   "display_name": "base",
   "language": "python",
   "name": "python3"
  },
  "language_info": {
   "codemirror_mode": {
    "name": "ipython",
    "version": 3
   },
   "file_extension": ".py",
   "mimetype": "text/x-python",
   "name": "python",
   "nbconvert_exporter": "python",
   "pygments_lexer": "ipython3",
   "version": "3.11.4"
  },
  "orig_nbformat": 4
 },
 "nbformat": 4,
 "nbformat_minor": 2
}

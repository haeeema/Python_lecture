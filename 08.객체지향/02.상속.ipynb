{
 "cells": [
  {
   "cell_type": "markdown",
   "metadata": {},
   "source": [
    "### 8.2 상속(Inheritance)"
   ]
  },
  {
   "cell_type": "code",
   "execution_count": 1,
   "metadata": {},
   "outputs": [],
   "source": [
    "class Person:\n",
    "    def __init__(self, name):\n",
    "        self.name = name\n",
    "\n",
    "    def greeting(self):\n",
    "        print('안녕하세요.')"
   ]
  },
  {
   "cell_type": "code",
   "execution_count": 2,
   "metadata": {},
   "outputs": [],
   "source": [
    "# Person을 상속받는 Student 클래스\n",
    "# 새로운 메소드 study\n",
    "class Student(Person):\n",
    "    def study(self):\n",
    "        print('공부합니다.')"
   ]
  },
  {
   "cell_type": "code",
   "execution_count": 4,
   "metadata": {},
   "outputs": [
    {
     "name": "stdout",
     "output_type": "stream",
     "text": [
      "Maria\n",
      "안녕하세요.\n",
      "공부합니다.\n"
     ]
    }
   ],
   "source": [
    "maria = Student('Maria')\n",
    "print(maria.name)\n",
    "maria.greeting()\n",
    "maria.study()"
   ]
  },
  {
   "cell_type": "markdown",
   "metadata": {},
   "source": [
    "- Method overriding(메소드 재정의)"
   ]
  },
  {
   "cell_type": "code",
   "execution_count": 6,
   "metadata": {},
   "outputs": [],
   "source": [
    "# Person을 상속받는 Student2 클래스\n",
    "# 부모의 greeting() method override\n",
    "class Student2(Person):\n",
    "    def greeting(self):\n",
    "        print('안녕')\n",
    "\n",
    "    def study(self):\n",
    "        print('공부합니다.')"
   ]
  },
  {
   "cell_type": "code",
   "execution_count": 7,
   "metadata": {},
   "outputs": [
    {
     "name": "stdout",
     "output_type": "stream",
     "text": [
      "안녕\n"
     ]
    }
   ],
   "source": [
    "tom = Student2('Tommy')\n",
    "tom.greeting()"
   ]
  },
  {
   "cell_type": "markdown",
   "metadata": {},
   "source": [
    "- 자식이 새로운 속성을 추가하고자 할 경우"
   ]
  },
  {
   "cell_type": "code",
   "execution_count": 8,
   "metadata": {},
   "outputs": [],
   "source": [
    "# Person을 상속받는 Student3 클래스\n",
    "# 부모의 greeting() method override\n",
    "# 새로운 속성 school 추가\n",
    "class Student3(Person):\n",
    "    def __init__(self, school):\n",
    "        self.school = school\n",
    "\n",
    "    def greeting(self):\n",
    "        print('안녕')\n",
    "\n",
    "    def study(self):\n",
    "        print('공부합니다.')"
   ]
  },
  {
   "cell_type": "code",
   "execution_count": 9,
   "metadata": {},
   "outputs": [
    {
     "data": {
      "text/plain": [
       "'Human Academy'"
      ]
     },
     "execution_count": 9,
     "metadata": {},
     "output_type": "execute_result"
    }
   ],
   "source": [
    "# name property를 받아올 수 없었다.\n",
    "anne = Student3('Human Academy')\n",
    "anne.school"
   ]
  },
  {
   "cell_type": "code",
   "execution_count": 10,
   "metadata": {},
   "outputs": [
    {
     "ename": "AttributeError",
     "evalue": "'Student3' object has no attribute 'name'",
     "output_type": "error",
     "traceback": [
      "\u001b[1;31m---------------------------------------------------------------------------\u001b[0m",
      "\u001b[1;31mAttributeError\u001b[0m                            Traceback (most recent call last)",
      "Cell \u001b[1;32mIn[10], line 1\u001b[0m\n\u001b[1;32m----> 1\u001b[0m anne\u001b[39m.\u001b[39mname\n",
      "\u001b[1;31mAttributeError\u001b[0m: 'Student3' object has no attribute 'name'"
     ]
    }
   ],
   "source": [
    "anne.name"
   ]
  },
  {
   "cell_type": "code",
   "execution_count": 11,
   "metadata": {},
   "outputs": [],
   "source": [
    "# 속성을 추가하는 올바른 방법\n",
    "class Student3(Person):\n",
    "    def __init__(self, name, school):\n",
    "        super().__init__(name)          # explicit 부모의 생성자 호출\n",
    "        self.school = school\n",
    "\n",
    "    def greeting(self):\n",
    "        print('안녕')\n",
    "\n",
    "    def study(self):\n",
    "        print('공부합니다.')"
   ]
  },
  {
   "cell_type": "code",
   "execution_count": 14,
   "metadata": {},
   "outputs": [
    {
     "data": {
      "text/plain": [
       "('Anne', 'Human Academy')"
      ]
     },
     "execution_count": 14,
     "metadata": {},
     "output_type": "execute_result"
    }
   ],
   "source": [
    "anne = Student3('Anne', 'Human Academy')\n",
    "anne.name, anne.school"
   ]
  },
  {
   "cell_type": "code",
   "execution_count": null,
   "metadata": {},
   "outputs": [],
   "source": [
    "# Exception을 상속받아서 새로운 예외를 만듦\n",
    "# 파라미터가 없는 생성자 함수, self는 인스턴스 자신을 의미\n",
    "class NotPalindromeError(Exception):\n",
    "    def __init__(self):                     \n",
    "        super().__init__('회문이 아닙니다.')\n"
   ]
  }
 ],
 "metadata": {
  "kernelspec": {
   "display_name": "Python 3",
   "language": "python",
   "name": "python3"
  },
  "language_info": {
   "codemirror_mode": {
    "name": "ipython",
    "version": 3
   },
   "file_extension": ".py",
   "mimetype": "text/x-python",
   "name": "python",
   "nbconvert_exporter": "python",
   "pygments_lexer": "ipython3",
   "version": "3.11.4"
  },
  "orig_nbformat": 4
 },
 "nbformat": 4,
 "nbformat_minor": 2
}

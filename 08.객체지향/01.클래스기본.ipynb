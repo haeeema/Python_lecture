{
 "cells": [
  {
   "cell_type": "markdown",
   "metadata": {},
   "source": [
    "### 8. 객체 지향\n",
    "\n",
    "#### 8.1 클래스의 기본\n",
    "\n",
    "- 사람의 정보를 저장하는 자료 만들기"
   ]
  },
  {
   "cell_type": "code",
   "execution_count": 1,
   "metadata": {},
   "outputs": [],
   "source": [
    "# List\n",
    "person_list = ['James', 175.0, 'programmer', 27]"
   ]
  },
  {
   "cell_type": "code",
   "execution_count": 2,
   "metadata": {},
   "outputs": [],
   "source": [
    "# Dictionary\n",
    "person_dict = {'name':'James', 'height':175.0, 'job':'programmer', 'age':27}"
   ]
  },
  {
   "cell_type": "code",
   "execution_count": 3,
   "metadata": {},
   "outputs": [],
   "source": [
    "# Class\n",
    "class Person:\n",
    "    def __init__(self):     # 생성자 함수, 클래스 속성을 정의\n",
    "        self.name = 'James'\n",
    "        self.height = 175.0\n",
    "        self.job = 'programmer'\n",
    "        self.age = 27"
   ]
  },
  {
   "cell_type": "code",
   "execution_count": 4,
   "metadata": {},
   "outputs": [
    {
     "data": {
      "text/plain": [
       "('James', 'James')"
      ]
     },
     "execution_count": 4,
     "metadata": {},
     "output_type": "execute_result"
    }
   ],
   "source": [
    "# 이름을 참조하는 방법\n",
    "person_list[0], person_dict['name']"
   ]
  },
  {
   "cell_type": "code",
   "execution_count": 5,
   "metadata": {},
   "outputs": [
    {
     "data": {
      "text/plain": [
       "'James'"
      ]
     },
     "execution_count": 5,
     "metadata": {},
     "output_type": "execute_result"
    }
   ],
   "source": [
    "# 클래스는 먼저 객체를 생성한 후, 객체를 통해 속성을 참조\n",
    "james = Person()\n",
    "james.name"
   ]
  },
  {
   "cell_type": "code",
   "execution_count": 6,
   "metadata": {},
   "outputs": [],
   "source": [
    "# 범용적으로 만들어 객체를 생성할 때, 속성의 값을 할당\n",
    "class Person2:\n",
    "    def __init__(self, name, height, job, age):\n",
    "        self.name = name\n",
    "        self.height = height\n",
    "        self.job = job\n",
    "        self.age = age"
   ]
  },
  {
   "cell_type": "code",
   "execution_count": 8,
   "metadata": {},
   "outputs": [],
   "source": [
    "james = Person2('James', 175.0, 'programmer', 27)\n",
    "maria = Person2('Maria', 165.0, 'designer', 25)"
   ]
  },
  {
   "cell_type": "code",
   "execution_count": 9,
   "metadata": {},
   "outputs": [
    {
     "data": {
      "text/plain": [
       "('Maria', 165.0, 'designer', 25)"
      ]
     },
     "execution_count": 9,
     "metadata": {},
     "output_type": "execute_result"
    }
   ],
   "source": [
    "maria.name, maria.height, maria.job, maria.age"
   ]
  },
  {
   "cell_type": "markdown",
   "metadata": {},
   "source": [
    "- 메소드(Method)\n",
    "    - 클래스 내부에 정의된 함수\n",
    "    - 객체가 할 수 있는 행위를 모델링"
   ]
  },
  {
   "cell_type": "code",
   "execution_count": 22,
   "metadata": {},
   "outputs": [],
   "source": [
    "class Person3:\n",
    "    def __init__(self, name, height, job, age):\n",
    "        self.name = name\n",
    "        self.height = height\n",
    "        self.job = job\n",
    "        self.age = age\n",
    "    \n",
    "    def get_info(self):\n",
    "        return f'이름: {self.name}, 키: {self.height}, 직업: {self.job}, 나이: {self.age}'"
   ]
  },
  {
   "cell_type": "code",
   "execution_count": 23,
   "metadata": {},
   "outputs": [],
   "source": [
    "james = Person3('James', 175.0, 'programmer', 27)\n",
    "maria = Person3('Maria', 165.0, 'designer', 25)"
   ]
  },
  {
   "cell_type": "code",
   "execution_count": 13,
   "metadata": {},
   "outputs": [
    {
     "data": {
      "text/plain": [
       "'이름: Maria, 키: 165.0, 직업: designer, 나이: 25'"
      ]
     },
     "execution_count": 13,
     "metadata": {},
     "output_type": "execute_result"
    }
   ],
   "source": [
    "maria.get_info()"
   ]
  },
  {
   "cell_type": "code",
   "execution_count": 24,
   "metadata": {},
   "outputs": [
    {
     "name": "stdout",
     "output_type": "stream",
     "text": [
      "<__main__.Person3 object at 0x00000121BC3EED10>\n"
     ]
    }
   ],
   "source": [
    "print(maria)"
   ]
  },
  {
   "cell_type": "code",
   "execution_count": 25,
   "metadata": {},
   "outputs": [],
   "source": [
    "class Person4:\n",
    "    def __init__(self, name, height, job, age):\n",
    "        self.name = name\n",
    "        self.height = height\n",
    "        self.job = job\n",
    "        self.age = age\n",
    "    \n",
    "    def get_info(self):\n",
    "        return f'이름: {self.name}, 키: {self.height}, 직업: {self.job}, 나이: {self.age}'\n",
    "    \n",
    "    def __str__(self):\n",
    "        return f'Person: : 이름={self.name}, 키={self.height}, 직업={self.job}, 나이={self.age}'"
   ]
  },
  {
   "cell_type": "code",
   "execution_count": 26,
   "metadata": {},
   "outputs": [],
   "source": [
    "james = Person4('James', 175.0, 'programmer', 27)\n",
    "maria = Person4('Maria', 165.0, 'designer', 25)"
   ]
  },
  {
   "cell_type": "code",
   "execution_count": 27,
   "metadata": {},
   "outputs": [
    {
     "name": "stdout",
     "output_type": "stream",
     "text": [
      "Person: : 이름=James, 키=175.0, 직업=programmer, 나이=27\n"
     ]
    }
   ],
   "source": [
    "print(james)"
   ]
  },
  {
   "cell_type": "markdown",
   "metadata": {},
   "source": [
    "- 연습문제: class Tmoney\n",
    "    - 속성: age, balance(잔액)\n",
    "    - pay() method\n",
    "        - age < 7: 무료, 7 <= age <= 12: 650, 13 <= age <= 18: 1050, 19 <= age: 1350\n",
    "        - '00살의 요금은 000원이고, 잔액은 000원 입니다.'\n",
    "        - 잔액이 부족하면 '잔액이 부족합니다.' 출력\n",
    "    - charge(amount) method\n",
    "        - amount 만큼의 금액을 balance에 추가"
   ]
  },
  {
   "cell_type": "code",
   "execution_count": 110,
   "metadata": {},
   "outputs": [],
   "source": [
    "class Tmoney:\n",
    "\n",
    "    def __init__(self, age, balance):\n",
    "        self.age = age\n",
    "        self.balance = balance\n",
    "        self.fare = 0 if self.age < 7 else \\\n",
    "                        650 if 7 <= self.age <= 12 else \\\n",
    "                            1050 if 13 <= self.age <=18 else 1350\n",
    "    # 내부에서만 사용하는 함수는 _두개를 붙여서 이름 짓는다.\n",
    "    def __alarm(self):\n",
    "        print(f'사용자의 나이는 {self.age}살이고, 잔액은 {self.balance}원 입니다. {self.balance//self.fare}번 더 이용하실 수 있습니다.')\n",
    "\n",
    "    def __str__(self):\n",
    "        self.__alarm()\n",
    "        return \n",
    "    \n",
    "    def pay(self):\n",
    "        if self.balance >= self.fare:\n",
    "            self.balance -= self.fare\n",
    "            # 내부에서만 사용하는 함수 call\n",
    "            self.__alarm()\n",
    "            return\n",
    "        print('잔액이 부족합니다.')\n",
    "        return\n",
    "        \n",
    "    def charge(self, amount):\n",
    "        self.balance += amount\n",
    "        print(f'{amount}원이 충전되었고, 잔액은 {self.balance}원 입니다. {self.balance//self.fare}번 더 이용하실 수 있습니다.')\n",
    "        return\n"
   ]
  },
  {
   "cell_type": "code",
   "execution_count": 41,
   "metadata": {},
   "outputs": [],
   "source": [
    "kid5 = Tmoney(5, 300)"
   ]
  },
  {
   "cell_type": "code",
   "execution_count": 42,
   "metadata": {},
   "outputs": [
    {
     "name": "stdout",
     "output_type": "stream",
     "text": [
      "5살의 요금은 650원이고, 잔액은 300원 입니다.\n"
     ]
    }
   ],
   "source": [
    "kid5.pay()"
   ]
  },
  {
   "cell_type": "code",
   "execution_count": 111,
   "metadata": {},
   "outputs": [],
   "source": [
    "kid13 = Tmoney(13, 2000)"
   ]
  },
  {
   "cell_type": "code",
   "execution_count": 112,
   "metadata": {},
   "outputs": [
    {
     "name": "stdout",
     "output_type": "stream",
     "text": [
      "13살의 요금은 1050원이고, 잔액은 950원 입니다.\n"
     ]
    }
   ],
   "source": [
    "kid13.pay()"
   ]
  },
  {
   "cell_type": "code",
   "execution_count": 113,
   "metadata": {},
   "outputs": [
    {
     "name": "stdout",
     "output_type": "stream",
     "text": [
      "2000원이 충전되었고, 잔액은 2950원 입니다.\n"
     ]
    }
   ],
   "source": [
    "kid13.charge(2000)"
   ]
  },
  {
   "cell_type": "code",
   "execution_count": 114,
   "metadata": {},
   "outputs": [
    {
     "name": "stdout",
     "output_type": "stream",
     "text": [
      "사용자의 나이는 13살이고, 잔액은 2950원 입니다. 2번 더 이용하실 수 있습니다.\n"
     ]
    }
   ],
   "source": [
    "print(kid13)"
   ]
  }
 ],
 "metadata": {
  "kernelspec": {
   "display_name": "base",
   "language": "python",
   "name": "python3"
  },
  "language_info": {
   "codemirror_mode": {
    "name": "ipython",
    "version": 3
   },
   "file_extension": ".py",
   "mimetype": "text/x-python",
   "name": "python",
   "nbconvert_exporter": "python",
   "pygments_lexer": "ipython3",
   "version": "3.11.4"
  },
  "orig_nbformat": 4
 },
 "nbformat": 4,
 "nbformat_minor": 2
}

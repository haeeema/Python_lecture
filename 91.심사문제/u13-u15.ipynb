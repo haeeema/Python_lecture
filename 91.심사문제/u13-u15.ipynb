{
 "cells": [
  {
   "cell_type": "code",
   "execution_count": 4,
   "metadata": {},
   "outputs": [
    {
     "name": "stdout",
     "output_type": "stream",
     "text": [
      "24000\n"
     ]
    }
   ],
   "source": [
    "# u13\n",
    "price = int(input())\n",
    "coupon = input().strip('Cash')\n",
    "\n",
    "print(price - int(coupon))"
   ]
  },
  {
   "cell_type": "code",
   "execution_count": null,
   "metadata": {},
   "outputs": [],
   "source": [
    "# u14\n",
    "korean, english, math, science = map(int, input().split())\n",
    "avg = (korean + english + math + science) / 4\n",
    "\n",
    "if korean < 0 or korean > 100 or english < 0 or english > 100 or math < 0 or math > 100 or science < 0 or science > 100:\n",
    "    print('잘못된 점수')\n",
    "elif avg < 80:\n",
    "    print('불합격')\n",
    "else:\n",
    "    print('합격')\n"
   ]
  },
  {
   "cell_type": "code",
   "execution_count": null,
   "metadata": {},
   "outputs": [],
   "source": [
    "# u14-list\n",
    "# list를 사용해서 개선된 코드\n",
    "scores = list(map(int, input().split()))\n",
    "if min(scores) < 0 or max(scores) > 100:\n",
    "    print('잘못된 점수')\n",
    "else:\n",
    "    avg = sum(scores) / len(scores)\n",
    "    if avg < 80:\n",
    "        print('불합격')\n",
    "    else:\n",
    "        print('합격')"
   ]
  },
  {
   "cell_type": "code",
   "execution_count": null,
   "metadata": {},
   "outputs": [],
   "source": [
    "# u15\n",
    "age = int(input())\n",
    "balance = 9000\n",
    "\n",
    "if 7 <= age <= 12:\n",
    "    balance -= 650\n",
    "elif 13 <= age <= 18:\n",
    "    balance -= 1050\n",
    "else:\n",
    "    balance -= 1250\n",
    "\n",
    "print(balance)"
   ]
  }
 ],
 "metadata": {
  "kernelspec": {
   "display_name": "base",
   "language": "python",
   "name": "python3"
  },
  "language_info": {
   "codemirror_mode": {
    "name": "ipython",
    "version": 3
   },
   "file_extension": ".py",
   "mimetype": "text/x-python",
   "name": "python",
   "nbconvert_exporter": "python",
   "pygments_lexer": "ipython3",
   "version": "3.11.4"
  },
  "orig_nbformat": 4
 },
 "nbformat": 4,
 "nbformat_minor": 2
}

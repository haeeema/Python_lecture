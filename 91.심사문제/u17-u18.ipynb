{
 "cells": [
  {
   "cell_type": "code",
   "execution_count": 8,
   "metadata": {},
   "outputs": [
    {
     "name": "stdout",
     "output_type": "stream",
     "text": [
      "12150\n",
      "10800\n",
      "9450\n",
      "8100\n",
      "6750\n",
      "5400\n",
      "4050\n",
      "2700\n",
      "1350\n",
      "0\n"
     ]
    }
   ],
   "source": [
    "# u17\n",
    "balance = int(input())\n",
    "while(balance >= 1350):\n",
    "    balance -= 1350\n",
    "    print(balance)\n"
   ]
  },
  {
   "cell_type": "code",
   "execution_count": 9,
   "metadata": {},
   "outputs": [
    {
     "name": "stdout",
     "output_type": "stream",
     "text": [
      "1 2 4 5 6 7 8 9 10 11 12 14 15 16 17 18 19 20 "
     ]
    }
   ],
   "source": [
    "# u18\n",
    "start, stop = map(int, input().split())\n",
    " \n",
    "i = start\n",
    " \n",
    "while True:\n",
    "    if (i % 10) == 3:\n",
    "        i += 1\n",
    "        continue\n",
    "    if i > stop:\n",
    "        break\n",
    "    print(i, end=' ')\n",
    "    i += 1"
   ]
  },
  {
   "cell_type": "code",
   "execution_count": 10,
   "metadata": {},
   "outputs": [
    {
     "name": "stdout",
     "output_type": "stream",
     "text": [
      "    *\n",
      "   ***\n",
      "  *****\n",
      " *******\n",
      "*********\n"
     ]
    }
   ],
   "source": [
    "# u19\n",
    "a = int(input())\n",
    "for i in range(1, a + 1):\n",
    "    print(' ' * (a - i) + '*' * (2 * i - 1))"
   ]
  },
  {
   "cell_type": "code",
   "execution_count": 11,
   "metadata": {},
   "outputs": [
    {
     "data": {
      "text/plain": [
       "[['🤢', '🤢', '🤢', '🤢', '🤢', '🤢', '🤢', '🤢', '🤢', '🤢'],\n",
       " ['🤢', '1️⃣', '3️⃣', '😡', '4️⃣', '3️⃣', '😡', '2️⃣', '😡', '🤢'],\n",
       " ['🤢', '😡', '3️⃣', '😡', '😡', '😡', '2️⃣', '2️⃣', '1️⃣', '🤢'],\n",
       " ['🤢', '1️⃣', '3️⃣', '3️⃣', '5️⃣', '4️⃣', '3️⃣', '2️⃣', '1️⃣', '🤢'],\n",
       " ['🤢', '2️⃣', '3️⃣', '😡', '3️⃣', '😡', '😡', '3️⃣', '😡', '🤢'],\n",
       " ['🤢', '😡', '😡', '4️⃣', '4️⃣', '😡', '😡', '4️⃣', '2️⃣', '🤢'],\n",
       " ['🤢', '😡', '😡', '5️⃣', '😡', '4️⃣', '4️⃣', '😡', '1️⃣', '🤢'],\n",
       " ['🤢', '😡', '😡', '😡', '3️⃣', '😡', '2️⃣', '1️⃣', '1️⃣', '🤢'],\n",
       " ['🤢', '2️⃣', '3️⃣', '2️⃣', '2️⃣', '1️⃣', '1️⃣', '0️⃣', '0️⃣', '🤢'],\n",
       " ['🤢', '🤢', '🤢', '🤢', '🤢', '🤢', '🤢', '🤢', '🤢', '🤢']]"
      ]
     },
     "execution_count": 11,
     "metadata": {},
     "output_type": "execute_result"
    }
   ],
   "source": [
    "# u23\n",
    "\n",
    "import random\n",
    "outer_mine = []\n",
    "for i in range(10):\n",
    "    inner_mine = []\n",
    "    for k in range(10):\n",
    "        if i == 0 or i == 9:\n",
    "            inner_mine.append('🤢')\n",
    "        else:\n",
    "            if k == 0 or k == 9:\n",
    "                inner_mine.append('🤢')\n",
    "            else:\n",
    "                inner_mine.append('😡' if random.random() > 0.7 else '🤢')\n",
    "    outer_mine.append(inner_mine)\n",
    "for i in range(1, 9):\n",
    "    for k in range(1, 9):\n",
    "        if outer_mine[i][k] == '🤢':\n",
    "            count = 0\n",
    "            if outer_mine[i-1][k-1] == '😡':\n",
    "                count += 1\n",
    "            if outer_mine[i-1][k] == '😡':\n",
    "                count += 1\n",
    "            if outer_mine[i-1][k+1] == '😡':\n",
    "                count += 1\n",
    "            if outer_mine[i][k-1] == '😡':\n",
    "                count += 1\n",
    "            if outer_mine[i][k+1] == '😡':\n",
    "                count += 1\n",
    "            if outer_mine[i+1][k-1] == '😡':\n",
    "                count += 1\n",
    "            if outer_mine[i+1][k] == '😡':\n",
    "                count += 1\n",
    "            if outer_mine[i+1][k+1] == '😡':\n",
    "                count += 1\n",
    "            outer_mine[i][k] = '0️⃣' if count == 0 else '1️⃣' if count == 1 else '2️⃣' if count == 2 else '3️⃣' if count == 3 else '4️⃣' if count == 4 else '5️⃣' if count == 5 else '6️⃣' if count == 6 else '7️⃣' if count == 7 else '8️⃣' if count == 8 else '👾'       \n",
    "outer_mine"
   ]
  },
  {
   "cell_type": "code",
   "execution_count": 37,
   "metadata": {},
   "outputs": [
    {
     "name": "stdout",
     "output_type": "stream",
     "text": [
      "4\n"
     ]
    }
   ],
   "source": [
    "# u24-1\n",
    "# count word 'the\n",
    "\n",
    "str_ = list(map(str, input().split()))\n",
    "count = 0\n",
    "for i in str_:\n",
    "    if i == 'the':\n",
    "        count += 1\n",
    "print(count)\n"
   ]
  },
  {
   "cell_type": "code",
   "execution_count": null,
   "metadata": {},
   "outputs": [],
   "source": [
    "the grown-ups' response, this time, was to advise me to lay aside my drawings of boa constrictors, whether from the inside or the outside, and devote myself instead to geography, history, arithmetic, and grammar. That is why, at the, age of six, I gave up what might have been a magnificent career as a painter. I had been disheartened by the failure of my Drawing Number One and my Drawing Number Two. Grown-ups never understand anything by themselves, and it is tiresome for children to be always and forever explaining things to the."
   ]
  }
 ],
 "metadata": {
  "kernelspec": {
   "display_name": "base",
   "language": "python",
   "name": "python3"
  },
  "language_info": {
   "codemirror_mode": {
    "name": "ipython",
    "version": 3
   },
   "file_extension": ".py",
   "mimetype": "text/x-python",
   "name": "python",
   "nbconvert_exporter": "python",
   "pygments_lexer": "ipython3",
   "version": "3.11.4"
  },
  "orig_nbformat": 4
 },
 "nbformat": 4,
 "nbformat_minor": 2
}

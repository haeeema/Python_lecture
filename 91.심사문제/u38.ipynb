{
 "cells": [
  {
   "cell_type": "code",
   "execution_count": 1,
   "metadata": {},
   "outputs": [
    {
     "name": "stdout",
     "output_type": "stream",
     "text": [
      "회문이 아닙니다.\n"
     ]
    }
   ],
   "source": [
    "# u38-1\n",
    "def palindrome(word):\n",
    "    if word[::-1] == word:\n",
    "        print(word)\n",
    "    else:\n",
    "        raise NotPalindromeError\n",
    "class NotPalindromeError(Exception):        # Exception을 상속받아서 새로운 예외를 만듦\n",
    "    def __init__(self):                     # 파라미터가 없는 생성자 함수, self는 인스턴스 자신을 의미\n",
    "        super().__init__('회문이 아닙니다.')    # self는 자바의 this의 의미, class method는 무조건 self가 첫번째 파라미터\n",
    "\n",
    "try:\n",
    "    word = input()\n",
    "    palindrome(word)\n",
    "except NotPalindromeError as e:\n",
    "    print(e)"
   ]
  },
  {
   "cell_type": "code",
   "execution_count": 2,
   "metadata": {},
   "outputs": [
    {
     "name": "stdout",
     "output_type": "stream",
     "text": [
      "level\n"
     ]
    }
   ],
   "source": [
    "# u38-2\n",
    "def palindrome(word):\n",
    "    if word[::-1] == word:\n",
    "        print(word)\n",
    "    else:\n",
    "        raise NotPalindromeError('회문이 아닙니다.')\n",
    "class NotPalindromeError(Exception):\n",
    "    pass\n",
    "\n",
    "try:\n",
    "    word = input()\n",
    "    palindrome(word)\n",
    "except NotPalindromeError as e:\n",
    "    print(e)"
   ]
  }
 ],
 "metadata": {
  "kernelspec": {
   "display_name": "base",
   "language": "python",
   "name": "python3"
  },
  "language_info": {
   "codemirror_mode": {
    "name": "ipython",
    "version": 3
   },
   "file_extension": ".py",
   "mimetype": "text/x-python",
   "name": "python",
   "nbconvert_exporter": "python",
   "pygments_lexer": "ipython3",
   "version": "3.11.4"
  },
  "orig_nbformat": 4
 },
 "nbformat": 4,
 "nbformat_minor": 2
}

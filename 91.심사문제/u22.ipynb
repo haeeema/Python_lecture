{
 "cells": [
  {
   "cell_type": "code",
   "execution_count": null,
   "metadata": {},
   "outputs": [],
   "source": [
    "# u22\n",
    "a, b = map(int, input().split())\n",
    "c = []\n",
    "for i in range(a, b+1):\n",
    "    c.append(2**i)\n",
    "del c[1]\n",
    "del c[-2]\n",
    "print(c)"
   ]
  }
 ],
 "metadata": {
  "language_info": {
   "name": "python"
  },
  "orig_nbformat": 4
 },
 "nbformat": 4,
 "nbformat_minor": 2
}

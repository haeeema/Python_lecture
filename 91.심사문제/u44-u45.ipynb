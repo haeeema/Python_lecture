{
 "cells": [
  {
   "cell_type": "code",
   "execution_count": null,
   "metadata": {},
   "outputs": [],
   "source": [
    "# u44\n",
    "import math\n",
    "\n",
    "radius = float(input())\n",
    "print(math.pi * radius * radius)"
   ]
  },
  {
   "cell_type": "code",
   "execution_count": null,
   "metadata": {},
   "outputs": [],
   "source": [
    "# u45-1\n",
    "from calcpkg import operation\n",
    "from calcpkg import geometry\n",
    "\n",
    "n = int(input())\n",
    "\n",
    "print(operation.squareroot(n))\n",
    "print(geometry.circle_area(n))"
   ]
  },
  {
   "cell_type": "code",
   "execution_count": null,
   "metadata": {},
   "outputs": [],
   "source": [
    "# u45-2\n",
    "import calcpkg.operation\n",
    "import calcpkg.geometry\n",
    "\n",
    "n = int(input())\n",
    "\n",
    "print(calcpkg.operation.squareroot(n))\n",
    "print(calcpkg.geometry.circle_area(n))"
   ]
  }
 ],
 "metadata": {
  "language_info": {
   "name": "python"
  },
  "orig_nbformat": 4
 },
 "nbformat": 4,
 "nbformat_minor": 2
}

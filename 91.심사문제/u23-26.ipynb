{
 "cells": [
  {
   "cell_type": "code",
   "execution_count": 1,
   "metadata": {},
   "outputs": [
    {
     "data": {
      "text/plain": [
       "[['🤢', '🤢', '🤢', '🤢', '🤢', '🤢', '🤢', '🤢', '🤢', '🤢'],\n",
       " ['🤢', '1️⃣', '😡', '1️⃣', '0️⃣', '1️⃣', '1️⃣', '3️⃣', '😡', '🤢'],\n",
       " ['🤢', '2️⃣', '2️⃣', '2️⃣', '1️⃣', '2️⃣', '😡', '3️⃣', '😡', '🤢'],\n",
       " ['🤢', '1️⃣', '😡', '1️⃣', '1️⃣', '😡', '4️⃣', '5️⃣', '3️⃣', '🤢'],\n",
       " ['🤢', '1️⃣', '2️⃣', '2️⃣', '2️⃣', '3️⃣', '😡', '😡', '😡', '🤢'],\n",
       " ['🤢', '1️⃣', '3️⃣', '😡', '3️⃣', '3️⃣', '😡', '😡', '4️⃣', '🤢'],\n",
       " ['🤢', '😡', '3️⃣', '😡', '3️⃣', '😡', '5️⃣', '😡', '3️⃣', '🤢'],\n",
       " ['🤢', '3️⃣', '4️⃣', '2️⃣', '2️⃣', '2️⃣', '4️⃣', '😡', '2️⃣', '🤢'],\n",
       " ['🤢', '😡', '😡', '1️⃣', '0️⃣', '1️⃣', '😡', '2️⃣', '1️⃣', '🤢'],\n",
       " ['🤢', '🤢', '🤢', '🤢', '🤢', '🤢', '🤢', '🤢', '🤢', '🤢']]"
      ]
     },
     "execution_count": 1,
     "metadata": {},
     "output_type": "execute_result"
    }
   ],
   "source": [
    "# u23\n",
    "\n",
    "import random\n",
    "outer_mine = []\n",
    "for i in range(10):\n",
    "    inner_mine = []\n",
    "    for k in range(10):\n",
    "        if i == 0 or i == 9:\n",
    "            inner_mine.append('🤢')\n",
    "        else:\n",
    "            if k == 0 or k == 9:\n",
    "                inner_mine.append('🤢')\n",
    "            else:\n",
    "                inner_mine.append('😡' if random.random() > 0.7 else '🤢')\n",
    "    outer_mine.append(inner_mine)\n",
    "for i in range(1, 9):\n",
    "    for k in range(1, 9):\n",
    "        if outer_mine[i][k] == '🤢':\n",
    "            count = 0\n",
    "            if outer_mine[i-1][k-1] == '😡':\n",
    "                count += 1\n",
    "            if outer_mine[i-1][k] == '😡':\n",
    "                count += 1\n",
    "            if outer_mine[i-1][k+1] == '😡':\n",
    "                count += 1\n",
    "            if outer_mine[i][k-1] == '😡':\n",
    "                count += 1\n",
    "            if outer_mine[i][k+1] == '😡':\n",
    "                count += 1\n",
    "            if outer_mine[i+1][k-1] == '😡':\n",
    "                count += 1\n",
    "            if outer_mine[i+1][k] == '😡':\n",
    "                count += 1\n",
    "            if outer_mine[i+1][k+1] == '😡':\n",
    "                count += 1\n",
    "            outer_mine[i][k] = '0️⃣' if count == 0 else '1️⃣' if count == 1 else '2️⃣' if count == 2 else '3️⃣' if count == 3 else '4️⃣' if count == 4 else '5️⃣' if count == 5 else '6️⃣' if count == 6 else '7️⃣' if count == 7 else '8️⃣' if count == 8 else '👾'       \n",
    "outer_mine"
   ]
  },
  {
   "cell_type": "code",
   "execution_count": 2,
   "metadata": {},
   "outputs": [
    {
     "name": "stdout",
     "output_type": "stream",
     "text": [
      "0\n"
     ]
    }
   ],
   "source": [
    "# u24-1\n",
    "str_ = list(map(str, input().replace(',', '').replace('.', '').split()))\n",
    "count = 0\n",
    "for i in str_:\n",
    "    if i == 'the':\n",
    "        count += 1\n",
    "print(count)"
   ]
  },
  {
   "cell_type": "code",
   "execution_count": null,
   "metadata": {},
   "outputs": [],
   "source": [
    "# u24-2\n",
    "list_ = list(map(int, input().split(';')))\n",
    "list_.sort(reverse=True)\n",
    "for i in list_:\n",
    "    print(f'{i:>9,}'.format(i))"
   ]
  },
  {
   "cell_type": "code",
   "execution_count": null,
   "metadata": {},
   "outputs": [],
   "source": [
    "# u25\n",
    "keys = input().split()\n",
    "values = map(int, input().split())\n",
    " \n",
    "x = dict(zip(keys, values))\n",
    "\n",
    "del x['delta']\n",
    "for key, value in x.copy().items():\n",
    "    if value == 30:\n",
    "        del x[key]\n",
    "\n",
    "print(x)"
   ]
  },
  {
   "cell_type": "code",
   "execution_count": null,
   "metadata": {},
   "outputs": [],
   "source": [
    "alpha bravo charlie delta\n",
    "10 20 30 40"
   ]
  },
  {
   "cell_type": "code",
   "execution_count": null,
   "metadata": {},
   "outputs": [],
   "source": [
    "# u26\n",
    "x, y = list(map(int, input().split()))\n",
    "a = set()\n",
    "b = set()\n",
    "\n",
    "for i in range(1, x + 1):\n",
    "    if x % i == 0:\n",
    "        a.add(i)\n",
    "\n",
    "for i in range(1, y + 1):\n",
    "    if y % i == 0:\n",
    "        b.add(i)\n",
    "\n",
    "divisor = a & b\n",
    " \n",
    "result = 0\n",
    "if type(divisor) == set:\n",
    "    result = sum(divisor)\n",
    " \n",
    "print(result)"
   ]
  }
 ],
 "metadata": {
  "kernelspec": {
   "display_name": "base",
   "language": "python",
   "name": "python3"
  },
  "language_info": {
   "codemirror_mode": {
    "name": "ipython",
    "version": 3
   },
   "file_extension": ".py",
   "mimetype": "text/x-python",
   "name": "python",
   "nbconvert_exporter": "python",
   "pygments_lexer": "ipython3",
   "version": "3.11.4"
  },
  "orig_nbformat": 4
 },
 "nbformat": 4,
 "nbformat_minor": 2
}
